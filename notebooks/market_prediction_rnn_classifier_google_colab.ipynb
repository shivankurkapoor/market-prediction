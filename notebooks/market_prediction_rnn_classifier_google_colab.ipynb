{
 "cells": [
  {
   "cell_type": "code",
   "execution_count": 1,
   "metadata": {
    "cellView": "code",
    "colab": {
     "autoexec": {
      "startup": false,
      "wait_interval": 0
     },
     "base_uri": "https://localhost:8080/",
     "height": 34,
     "output_extras": [
      {
       "item_id": 1
      }
     ]
    },
    "colab_type": "code",
    "executionInfo": {
     "elapsed": 7838,
     "status": "ok",
     "timestamp": 1522511139077,
     "user": {
      "displayName": "Shivankur Kapoor",
      "photoUrl": "//lh6.googleusercontent.com/-PynCFKt_Vaw/AAAAAAAAAAI/AAAAAAAAAB0/gMErFHjIJjw/s50-c-k-no/photo.jpg",
      "userId": "105072539454715681442"
     },
     "user_tz": 240
    },
    "id": "I4VnhFb5LpDP",
    "outputId": "df1ffe6b-4a5b-4d45-c783-4175289a4d5f"
   },
   "outputs": [
    {
     "data": {
      "text/plain": [
       "'/device:GPU:0'"
      ]
     },
     "execution_count": 1,
     "metadata": {
      "tags": []
     },
     "output_type": "execute_result"
    }
   ],
   "source": [
    "import tensorflow as tf\n",
    "# This should print out an output like \"/device:GPU:0\". If you get an empty \n",
    "# string, verify you are on a GPU runtime. \n",
    "# Goto Runtime menu -> Change runtime type -> Select GPU in the hardware accelerator spinner\n",
    "tf.test.gpu_device_name()"
   ]
  },
  {
   "cell_type": "code",
   "execution_count": 2,
   "metadata": {
    "cellView": "code",
    "colab": {
     "autoexec": {
      "startup": false,
      "wait_interval": 0
     },
     "base_uri": "https://localhost:8080/",
     "height": 34,
     "output_extras": [
      {
       "item_id": 1
      }
     ]
    },
    "colab_type": "code",
    "executionInfo": {
     "elapsed": 1249,
     "status": "ok",
     "timestamp": 1522511153370,
     "user": {
      "displayName": "Shivankur Kapoor",
      "photoUrl": "//lh6.googleusercontent.com/-PynCFKt_Vaw/AAAAAAAAAAI/AAAAAAAAAB0/gMErFHjIJjw/s50-c-k-no/photo.jpg",
      "userId": "105072539454715681442"
     },
     "user_tz": 240
    },
    "id": "8Cf1yqg6hf0E",
    "outputId": "e0c07f92-ba43-404a-ec0e-80214af96636"
   },
   "outputs": [
    {
     "name": "stdout",
     "output_type": "stream",
     "text": [
      "Populating the interactive namespace from numpy and matplotlib\n"
     ]
    }
   ],
   "source": [
    "#@title Default title text\n",
    "import pandas as pd\n",
    "import itertools\n",
    "import tensorflow as tf\n",
    "import os\n",
    "import re\n",
    "import numpy as np\n",
    "from StringIO import StringIO\n",
    "from tensorflow.contrib.layers.python.layers.initializers import xavier_initializer\n",
    "from IPython.display import clear_output\n",
    "from sklearn.metrics import classification_report,confusion_matrix\n",
    "%pylab inline\n",
    "matplotlib.pyplot.style.use = 'default'"
   ]
  },
  {
   "cell_type": "code",
   "execution_count": null,
   "metadata": {
    "colab": {
     "autoexec": {
      "startup": false,
      "wait_interval": 0
     }
    },
    "colab_type": "code",
    "id": "ktk6ojfSL6hV"
   },
   "outputs": [],
   "source": [
    "!pip install -U -q PyDrive ## you will have install for every colab session\n",
    "\n",
    "from pydrive.auth import GoogleAuth\n",
    "from pydrive.drive import GoogleDrive\n",
    "from google.colab import auth\n",
    "from oauth2client.client import GoogleCredentials\n",
    "\n",
    "# 1. Authenticate and create the PyDrive client.\n",
    "auth.authenticate_user()\n",
    "gauth = GoogleAuth()\n",
    "gauth.credentials = GoogleCredentials.get_application_default()\n",
    "drive = GoogleDrive(gauth)"
   ]
  },
  {
   "cell_type": "code",
   "execution_count": null,
   "metadata": {
    "colab": {
     "autoexec": {
      "startup": false,
      "wait_interval": 0
     }
    },
    "colab_type": "code",
    "id": "Bzi5aR5FlE0I"
   },
   "outputs": [],
   "source": [
    "#Fetching file meta data from Google Drive folder\n",
    "file_list = drive.ListFile({'q': \"'1K_8auEsRPCRd11cl7mRkipb66xlghbZi' in parents and trashed=false\"}).GetList()\n",
    "file_list = map(lambda x : (x['id'], x['title']), file_list)"
   ]
  },
  {
   "cell_type": "code",
   "execution_count": 6,
   "metadata": {
    "colab": {
     "autoexec": {
      "startup": false,
      "wait_interval": 0
     },
     "base_uri": "https://localhost:8080/",
     "height": 8517,
     "output_extras": [
      {
       "item_id": 70
      },
      {
       "item_id": 139
      },
      {
       "item_id": 208
      },
      {
       "item_id": 277
      },
      {
       "item_id": 346
      },
      {
       "item_id": 415
      },
      {
       "item_id": 484
      },
      {
       "item_id": 496
      }
     ]
    },
    "colab_type": "code",
    "executionInfo": {
     "elapsed": 260533,
     "status": "ok",
     "timestamp": 1522511491852,
     "user": {
      "displayName": "Shivankur Kapoor",
      "photoUrl": "//lh6.googleusercontent.com/-PynCFKt_Vaw/AAAAAAAAAAI/AAAAAAAAAB0/gMErFHjIJjw/s50-c-k-no/photo.jpg",
      "userId": "105072539454715681442"
     },
     "user_tz": 240
    },
    "id": "X4Yv23h1mEKD",
    "outputId": "85a4d2e5-29db-48cf-ce6a-f531042bc79d"
   },
   "outputs": [
    {
     "name": "stdout",
     "output_type": "stream",
     "text": [
      "Creating file table_te.csv uploaded 1\n",
      "Creating file table_hrs.csv uploaded 2\n",
      "Creating file table_cl.csv uploaded 3\n",
      "Creating file table_schw.csv uploaded 4\n",
      "Creating file table_nvda.csv uploaded 5\n",
      "Creating file table_vz.csv uploaded 6\n",
      "Creating file table_chrw.csv uploaded 7\n",
      "Creating file table_dri.csv uploaded 8\n",
      "Creating file table_biib.csv uploaded 9\n",
      "Creating file table_bbby.csv uploaded 10\n",
      "Creating file table_ivz.csv uploaded 11\n",
      "Creating file table_sre.csv uploaded 12\n",
      "Creating file table_pom.csv uploaded 13\n",
      "Creating file table_pxd.csv uploaded 14\n",
      "Creating file table_twx.csv uploaded 15\n",
      "Creating file table_vmc.csv uploaded 16\n",
      "Creating file table_vno.csv uploaded 17\n",
      "Creating file table_apol.csv uploaded 18\n",
      "Creating file table_ctxs.csv uploaded 19\n",
      "Creating file table_trip.csv uploaded 20\n",
      "Creating file table_mur.csv uploaded 21\n",
      "Creating file table_mmc.csv uploaded 22\n",
      "Creating file table_cof.csv uploaded 23\n",
      "Creating file table_bf.b.csv uploaded 24\n",
      "Creating file table_hst.csv uploaded 25\n",
      "Creating file table_cce.csv uploaded 26\n",
      "Creating file table_vrsn.csv uploaded 27\n",
      "Creating file table_ace.csv uploaded 28\n",
      "Creating file table_etfc.csv uploaded 29\n",
      "Creating file table_cam.csv uploaded 30\n",
      "Creating file table_amat.csv uploaded 31\n",
      "Creating file table_abc.csv uploaded 32\n",
      "Creating file table_jpm.csv uploaded 33\n",
      "Creating file table_bk.csv uploaded 34\n",
      "Creating file table_abt.csv uploaded 35\n",
      "Creating file table_omc.csv uploaded 36\n",
      "Creating file table_cvs.csv uploaded 37\n",
      "Creating file table_ms.csv uploaded 38\n",
      "Creating file table_ctl.csv uploaded 39\n",
      "Creating file table_msft.csv uploaded 40\n",
      "Creating file table_ni.csv uploaded 41\n",
      "Creating file table_mtb.csv uploaded 42\n",
      "Creating file table_ctas.csv uploaded 43\n",
      "Creating file table_klac.csv uploaded 44\n",
      "Creating file table_pcl.csv uploaded 45\n",
      "Creating file table_txt.csv uploaded 46\n",
      "Creating file table_pbi.csv uploaded 47\n",
      "Creating file table_ndaq.csv uploaded 48\n",
      "Creating file table_dhr.csv uploaded 49\n",
      "Creating file table_krft.csv uploaded 50\n",
      "Creating file table_avp.csv uploaded 51\n",
      "Creating file table_cop.csv uploaded 52\n",
      "Creating file table_cbs.csv uploaded 53\n",
      "Creating file table_mck.csv uploaded 54\n",
      "Creating file table_cah.csv uploaded 55\n",
      "Creating file table_cog.csv uploaded 56\n",
      "Creating file table_mat.csv uploaded 57\n",
      "Creating file table_expd.csv uploaded 58\n",
      "Creating file table_cnp.csv uploaded 59\n",
      "Creating file table_hrb.csv uploaded 60\n",
      "Creating file table_nem.csv uploaded 61\n",
      "Creating file table_clx.csv uploaded 62\n",
      "Creating file table_len.csv uploaded 63\n",
      "Creating file table_mco.csv uploaded 64\n",
      "Creating file table_kmb.csv uploaded 65\n",
      "Creating file table_wfc.csv uploaded 66\n",
      "Creating file table_pvh.csv uploaded 67\n",
      "Creating file table_tyc.csv uploaded 68\n",
      "Creating file table_oi.csv uploaded 69\n",
      "Creating file table_ma.csv uploaded 70\n",
      "Creating file table_gww.csv uploaded 71\n",
      "Creating file table_wpo.csv uploaded 72\n",
      "Creating file table_all.csv uploaded 73\n",
      "Creating file table_flir.csv uploaded 74\n",
      "Creating file table_jdsu.csv uploaded 75\n",
      "Creating file table_etn.csv uploaded 76\n",
      "Creating file table_avb.csv uploaded 77\n",
      "Creating file table_act.csv uploaded 78\n",
      "Creating file table_jnpr.csv uploaded 79\n",
      "Creating file table_wpx.csv uploaded 80\n",
      "Creating file table_wy.csv uploaded 81\n",
      "Creating file table_adsk.csv uploaded 82\n",
      "Creating file table_urbn.csv uploaded 83\n",
      "Creating file table_pcar.csv uploaded 84\n",
      "Creating file table_zmh.csv uploaded 85\n",
      "Creating file table_dgx.csv uploaded 86\n",
      "Creating file table_dis.csv uploaded 87\n",
      "Creating file table_intu.csv uploaded 88\n",
      "Creating file table_hsp.csv uploaded 89\n",
      "Creating file table_expe.csv uploaded 90\n",
      "Creating file table_mas.csv uploaded 91\n",
      "Creating file table_fis.csv uploaded 92\n",
      "Creating file table_anf.csv uploaded 93\n",
      "Creating file table_ci.csv uploaded 94\n",
      "Creating file table_nke.csv uploaded 95\n",
      "Creating file table_aa.csv uploaded 96\n",
      "Creating file table_vtr.csv uploaded 97\n",
      "Creating file table_mu.csv uploaded 98\n",
      "Creating file table_cbg.csv uploaded 99\n",
      "Creating file table_dps.csv uploaded 100\n",
      "Creating file table_sbux.csv uploaded 101\n",
      "Creating file table_orcl.csv uploaded 102\n",
      "Creating file table_eog.csv uploaded 103\n",
      "Creating file table_nsc.csv uploaded 104\n",
      "Creating file table_gnw.csv uploaded 105\n",
      "Creating file table_rok.csv uploaded 106\n",
      "Creating file table_emn.csv uploaded 107\n",
      "Creating file table_ebay.csv uploaded 108\n",
      "Creating file table_disca.csv uploaded 109\n",
      "Creating file table_nrg.csv uploaded 110\n",
      "Creating file table_var.csv uploaded 111\n",
      "Creating file table_usb.csv uploaded 112\n",
      "Creating file table_ibm.csv uploaded 113\n",
      "Creating file table_hcbk.csv uploaded 114\n",
      "Creating file table_itw.csv uploaded 115\n",
      "Creating file table_cvc.csv uploaded 116\n",
      "Creating file table_pld.csv uploaded 117\n",
      "Creating file table_bsx.csv uploaded 118\n",
      "Creating file table_mnst.csv uploaded 119\n",
      "Creating file table_win.csv uploaded 120\n",
      "Creating file table_wm.csv uploaded 121\n",
      "Creating file table_mon.csv uploaded 122\n",
      "Creating file table_mar.csv uploaded 123\n",
      "Creating file table_amzn.csv uploaded 124\n",
      "Creating file table_ati.csv uploaded 125\n",
      "Creating file table_intc.csv uploaded 126\n",
      "Creating file table_frx.csv uploaded 127\n",
      "Creating file table_cmi.csv uploaded 128\n",
      "Creating file table_xyl.csv uploaded 129\n",
      "Creating file table_cov.csv uploaded 130\n",
      "Creating file table_xray.csv uploaded 131\n",
      "Creating file table_aep.csv uploaded 132\n",
      "Creating file table_pdco.csv uploaded 133\n",
      "Creating file table_dow.csv uploaded 134\n",
      "Creating file table_rf.csv uploaded 135\n",
      "Creating file table_tap.csv uploaded 136\n",
      "Creating file table_sni.csv uploaded 137\n",
      "Creating file table_cern.csv uploaded 138\n",
      "Creating file table_hcn.csv uploaded 139\n",
      "Creating file table_adt.csv uploaded 140\n",
      "Creating file table_swk.csv uploaded 141\n",
      "Creating file table_nbl.csv uploaded 142\n",
      "Creating file table_efx.csv uploaded 143\n",
      "Creating file table_trv.csv uploaded 144\n",
      "Creating file table_bmy.csv uploaded 145\n",
      "Creating file table_rhi.csv uploaded 146\n",
      "Creating file table_bcr.csv uploaded 147\n",
      "Creating file table_nue.csv uploaded 148\n",
      "Creating file table_psa.csv uploaded 149\n",
      "Creating file table_mdlz.csv uploaded 150\n",
      "Creating file table_bwa.csv uploaded 151\n",
      "Creating file table_pgr.csv uploaded 152\n",
      "Creating file table_fast.csv uploaded 153\n",
      "Creating file table_blk.csv uploaded 154\n",
      "Creating file table_tss.csv uploaded 155\n",
      "Creating file table_nwl.csv uploaded 156\n",
      "Creating file table_ppl.csv uploaded 157\n",
      "Creating file table_crm.csv uploaded 158\n",
      "Creating file table_wat.csv uploaded 159\n",
      "Creating file table_abbv.csv uploaded 160\n",
      "Creating file table_px.csv uploaded 161\n",
      "Creating file table_dnr.csv uploaded 162\n",
      "Creating file table_agn.csv uploaded 163\n",
      "Creating file table_xrx.csv uploaded 164\n",
      "Creating file table_kr.csv uploaded 165\n",
      "Creating file table_dov.csv uploaded 166\n",
      "Creating file table_jnj.csv uploaded 167\n",
      "Creating file table_fosl.csv uploaded 168\n",
      "Creating file table_fti.csv uploaded 169\n",
      "Creating file table_joy.csv uploaded 170\n",
      "Creating file table_tgt.csv uploaded 171\n",
      "Creating file table_aes.csv uploaded 172\n",
      "Creating file table_el.csv uploaded 173\n",
      "Creating file table_hon.csv uploaded 174\n",
      "Creating file table_gd.csv uploaded 175\n",
      "Creating file table_aig.csv uploaded 176\n",
      "Creating file table_slb.csv uploaded 177\n",
      "Creating file table_gs.csv uploaded 178\n",
      "Creating file table_adbe.csv uploaded 179\n",
      "Creating file table_pm.csv uploaded 180\n",
      "Creating file table_key.csv uploaded 181\n",
      "Creating file table_lmt.csv uploaded 182\n",
      "Creating file table_unm.csv uploaded 183\n",
      "Creating file table_wmb.csv uploaded 184\n",
      "Creating file table_gpc.csv uploaded 185\n",
      "Creating file table_bbt.csv uploaded 186\n",
      "Creating file table_eqr.csv uploaded 187\n",
      "Creating file table_har.csv uploaded 188\n",
      "Creating file table_dva.csv uploaded 189\n",
      "Creating file table_srcl.csv uploaded 190\n",
      "Creating file table_kim.csv uploaded 191\n",
      "Creating file table_wmt.csv uploaded 192\n",
      "Creating file table_ge.csv uploaded 193\n",
      "Creating file table_bax.csv uploaded 194\n",
      "Creating file table_has.csv uploaded 195\n",
      "Creating file table_wlp.csv uploaded 196\n",
      "Creating file table_cost.csv uploaded 197\n",
      "Creating file table_apd.csv uploaded 198\n",
      "Creating file table_aee.csv uploaded 199\n",
      "Creating file table_yhoo.csv uploaded 200\n",
      "Creating file table_k.csv uploaded 201\n",
      "Creating file table_phm.csv uploaded 202\n",
      "Creating file table_mkc.csv uploaded 203\n",
      "Creating file table_ph.csv uploaded 204\n",
      "Creating file table_dnb.csv uploaded 205\n",
      "Creating file table_oke.csv uploaded 206\n",
      "Creating file table_cpb.csv uploaded 207\n",
      "Creating file table_x.csv uploaded 208\n",
      "Creating file table_luv.csv uploaded 209\n",
      "Creating file table_fe.csv uploaded 210\n",
      "Creating file table_altr.csv uploaded 211\n",
      "Creating file table_sndk.csv uploaded 212\n",
      "Creating file table_spls.csv uploaded 213\n",
      "Creating file table_bll.csv uploaded 214\n",
      "Creating file table_ltd.csv uploaded 215\n",
      "Creating file table_unh.csv uploaded 216\n",
      "Creating file table_gis.csv uploaded 217\n",
      "Creating file table_pfg.csv uploaded 218\n",
      "Creating file table_pru.csv uploaded 219\n",
      "Creating file table_lyb.csv uploaded 220\n",
      "Creating file table_l.csv uploaded 221\n",
      "Creating file table_csx.csv uploaded 222\n",
      "Creating file table_apa.csv uploaded 223\n",
      "Creating file table_apc.csv uploaded 224\n",
      "Creating file table_jci.csv uploaded 225\n",
      "Creating file table_gild.csv uploaded 226\n",
      "Creating file table_afl.csv uploaded 227\n",
      "Creating file table_jwn.csv uploaded 228\n",
      "Creating file table_cfn.csv uploaded 229\n",
      "Creating file table_se.csv uploaded 230\n",
      "Creating file table_pfe.csv uploaded 231\n",
      "Creating file table_csco.csv uploaded 232\n",
      "Creating file table_wag.csv uploaded 233\n",
      "Creating file table_duk.csv uploaded 234\n",
      "Creating file table_kss.csv uploaded 235\n",
      "Creating file table_vfc.csv uploaded 236\n",
      "Creating file table_swy.csv uploaded 237\n",
      "Creating file table_aiv.csv uploaded 238\n",
      "Creating file table_eqt.csv uploaded 239\n",
      "Creating file table_swn.csv uploaded 240\n",
      "Creating file table_trow.csv uploaded 241\n",
      "Creating file table_yum.csv uploaded 242\n",
      "Creating file table_iff.csv uploaded 243\n",
      "Creating file table_rsg.csv uploaded 244\n",
      "Creating file table_igt.csv uploaded 245\n",
      "Creating file table_gps.csv uploaded 246\n",
      "Creating file table_mchp.csv uploaded 247\n",
      "Creating file table_prgo.csv uploaded 248\n",
      "Creating file table_rrc.csv uploaded 249\n",
      "Creating file table_isrg.csv uploaded 250\n",
      "Creating file table_jbl.csv uploaded 251\n",
      "Creating file table_aet.csv uploaded 252\n",
      "Creating file table_adp.csv uploaded 253\n",
      "Creating file table_hnz.csv uploaded 254\n",
      "Creating file table_m.csv uploaded 255\n",
      "Creating file table_stt.csv uploaded 256\n",
      "Creating file table_do.csv uploaded 257\n",
      "Creating file table_scg.csv uploaded 258\n",
      "Creating file table_gt.csv uploaded 259\n",
      "Creating file table_tel.csv uploaded 260\n",
      "Creating file table_pg.csv uploaded 261\n",
      "Creating file table_met.csv uploaded 262\n",
      "Creating file table_arg.csv uploaded 263\n",
      "Creating file table_xel.csv uploaded 264\n",
      "Creating file table_chk.csv uploaded 265\n",
      "Creating file table_fmc.csv uploaded 266\n",
      "Creating file table_hcp.csv uploaded 267\n",
      "Creating file table_ir.csv uploaded 268\n",
      "Creating file table_aiz.csv uploaded 269\n",
      "Creating file table_viab.csv uploaded 270\n",
      "Creating file table_lll.csv uploaded 271\n",
      "Creating file table_wynn.csv uploaded 272\n",
      "Creating file table_unp.csv uploaded 273\n",
      "Creating file table_nbr.csv uploaded 274\n",
      "Creating file table_low.csv uploaded 275\n",
      "Creating file table_ipg.csv uploaded 276\n",
      "Creating file table_rdc.csv uploaded 277\n",
      "Creating file table_ctsh.csv uploaded 278\n",
      "Creating file table_lrcx.csv uploaded 279\n",
      "Creating file table_nyx.csv uploaded 280\n",
      "Creating file table_noc.csv uploaded 281\n",
      "Creating file table_bxp.csv uploaded 282\n",
      "Creating file table_tjx.csv uploaded 283\n",
      "Creating file table_sna.csv uploaded 284\n",
      "Creating file table_a.csv uploaded 285\n",
      "Creating file table_c.csv uploaded 286\n",
      "Creating file table_mrk.csv uploaded 287\n",
      "Creating file table_v.csv uploaded 288\n",
      "Creating file table_stx.csv uploaded 289\n",
      "Creating file table_mpc.csv uploaded 290\n",
      "Creating file table_hog.csv uploaded 291\n",
      "Creating file table_fls.csv uploaded 292\n",
      "Creating file table_hal.csv uploaded 293\n",
      "Creating file table_t.csv uploaded 294\n",
      "Creating file table_rl.csv uploaded 295\n",
      "Creating file table_tso.csv uploaded 296\n",
      "Creating file table_adi.csv uploaded 297\n",
      "Creating file table_stz.csv uploaded 298\n",
      "Creating file table_nov.csv uploaded 299\n",
      "Creating file table_nwsa.csv uploaded 300\n",
      "Creating file table_beam.csv uploaded 301\n",
      "Creating file table_bms.csv uploaded 302\n",
      "Creating file table_irm.csv uploaded 303\n",
      "Creating file table_pbct.csv uploaded 304\n",
      "Creating file table_sial.csv uploaded 305\n",
      "Creating file table_lly.csv uploaded 306\n",
      "Creating file table_ppg.csv uploaded 307\n",
      "Creating file table_rht.csv uploaded 308\n",
      "Creating file table_fisv.csv uploaded 309\n",
      "Creating file table_wyn.csv uploaded 310\n",
      "Creating file table_aapl.csv uploaded 311\n",
      "Creating file table_peg.csv uploaded 312\n",
      "Creating file table_pep.csv uploaded 313\n",
      "Creating file table_ko.csv uploaded 314\n",
      "Creating file table_tsn.csv uploaded 315\n",
      "Creating file table_csc.csv uploaded 316\n",
      "Creating file table_ntap.csv uploaded 317\n",
      "Creating file table_ip.csv uploaded 318\n",
      "Creating file table_flr.csv uploaded 319\n",
      "Creating file table_dtv.csv uploaded 320\n",
      "Creating file table_f.csv uploaded 321\n",
      "Creating file table_grmn.csv uploaded 322\n",
      "Creating file table_syk.csv uploaded 323\n",
      "Creating file table_dltr.csv uploaded 324\n",
      "Creating file table_jcp.csv uploaded 325\n",
      "Creating file table_ed.csv uploaded 326\n",
      "Creating file table_teg.csv uploaded 327\n",
      "Creating file table_mjn.csv uploaded 328\n",
      "Creating file table_sai.csv uploaded 329\n",
      "Creating file table_tdc.csv uploaded 330\n",
      "Creating file table_brcm.csv uploaded 331\n",
      "Creating file table_qcom.csv uploaded 332\n",
      "Creating file table_dte.csv uploaded 333\n",
      "Creating file table_rost.csv uploaded 334\n",
      "Creating file table_hp.csv uploaded 335\n",
      "Creating file table_dd.csv uploaded 336\n",
      "Creating file table_esv.csv uploaded 337\n",
      "Creating file table_bby.csv uploaded 338\n",
      "Creating file table_eix.csv uploaded 339\n",
      "Creating file table_ew.csv uploaded 340\n",
      "Creating file table_alxn.csv uploaded 341\n",
      "Creating file table_sti.csv uploaded 342\n",
      "Creating file table_pki.csv uploaded 343\n",
      "Creating file table_hban.csv uploaded 344\n",
      "Creating file table_bac.csv uploaded 345\n",
      "Creating file table_zion.csv uploaded 346\n",
      "Creating file table_utx.csv uploaded 347\n",
      "Creating file table_btu.csv uploaded 348\n",
      "Creating file table_lnc.csv uploaded 349\n",
      "Creating file table_psx.csv uploaded 350\n",
      "Creating file table_msi.csv uploaded 351\n",
      "Creating file table_fcx.csv uploaded 352\n",
      "Creating file table_hum.csv uploaded 353\n",
      "Creating file table_aph.csv uploaded 354\n",
      "Creating file table_adm.csv uploaded 355\n",
      "Creating file table_syy.csv uploaded 356\n",
      "Creating file table_r.csv uploaded 357\n",
      "Creating file table_hot.csv uploaded 358\n",
      "Creating file table_de.csv uploaded 359\n",
      "Creating file table_ea.csv uploaded 360\n",
      "Creating file table_luk.csv uploaded 361\n",
      "Creating file table_slm.csv uploaded 362\n",
      "Creating file table_mro.csv uploaded 363\n",
      "Creating file table_bmc.csv uploaded 364\n",
      "Creating file table_dvn.csv uploaded 365\n",
      "Creating file table_hd.csv uploaded 366\n",
      "Creating file table_thc.csv uploaded 367\n",
      "Creating file table_goog.csv uploaded 368\n",
      "Creating file table_fslr.csv uploaded 369\n",
      "Creating file table_dg.csv uploaded 370\n",
      "Creating file table_amgn.csv uploaded 371\n",
      "Creating file table_stj.csv uploaded 372\n",
      "Creating file table_so.csv uploaded 373\n",
      "Creating file table_ftr.csv uploaded 374\n",
      "Creating file table_mdt.csv uploaded 375\n",
      "Creating file table_tif.csv uploaded 376\n",
      "Creating file table_df.csv uploaded 377\n",
      "Creating file table_d.csv uploaded 378\n",
      "Creating file table_esrx.csv uploaded 379\n",
      "Creating file table_ter.csv uploaded 380\n",
      "Creating file table_cag.csv uploaded 381\n",
      "Creating file table_xlnx.csv uploaded 382\n",
      "Creating file table_payx.csv uploaded 383\n",
      "Creating file table_fdx.csv uploaded 384\n",
      "Creating file table_fdo.csv uploaded 385\n",
      "Creating file table_azo.csv uploaded 386\n",
      "Creating file table_cms.csv uploaded 387\n",
      "Creating file table_s.csv uploaded 388\n",
      "Creating file table_axp.csv uploaded 389\n",
      "Creating file table_col.csv uploaded 390\n",
      "Creating file table_mhfi.csv uploaded 391\n",
      "Creating file table_hig.csv uploaded 392\n",
      "Creating file table_ba.csv uploaded 393\n",
      "Creating file table_hes.csv uploaded 394\n",
      "Creating file table_vlo.csv uploaded 395\n",
      "Creating file table_nu.csv uploaded 396\n",
      "Creating file table_exc.csv uploaded 397\n",
      "Creating file table_aon.csv uploaded 398\n",
      "Creating file table_rop.csv uploaded 399\n",
      "Creating file table_brkb.csv uploaded 400\n",
      "Creating file table_wfm.csv uploaded 401\n",
      "Creating file table_pnw.csv uploaded 402\n",
      "Creating file table_ben.csv uploaded 403\n",
      "Creating file table_emc.csv uploaded 404\n",
      "Creating file table_pcp.csv uploaded 405\n",
      "Creating file table_petm.csv uploaded 406\n",
      "Creating file table_bhi.csv uploaded 407\n",
      "Creating file table_nfx.csv uploaded 408\n",
      "Creating file table_orly.csv uploaded 409\n",
      "Creating file table_ice.csv uploaded 410\n",
      "Creating file table_pcg.csv uploaded 411\n",
      "Creating file table_cvx.csv uploaded 412\n",
      "Creating file table_mo.csv uploaded 413\n",
      "Creating file table_cinf.csv uploaded 414\n",
      "Creating file table_xom.csv uploaded 415\n",
      "Creating file table_cme.csv uploaded 416\n",
      "Creating file table_ffiv.csv uploaded 417\n",
      "Creating file table_amp.csv uploaded 418\n",
      "Creating file table_qep.csv uploaded 419\n",
      "Creating file table_dfs.csv uploaded 420\n",
      "Creating file table_see.csv uploaded 421\n",
      "Creating file table_acn.csv uploaded 422\n",
      "Creating file table_hrl.csv uploaded 423\n",
      "Creating file table_an.csv uploaded 424\n",
      "Creating file table_shw.csv uploaded 425\n",
      "Creating file table_hpq.csv uploaded 426\n",
      "Creating file table_xl.csv uploaded 427\n",
      "Creating file table_ccl.csv uploaded 428\n",
      "Creating file table_cmg.csv uploaded 429\n",
      "Creating file table_cf.csv uploaded 430\n",
      "Creating file table_lltc.csv uploaded 431\n",
      "Creating file table_wec.csv uploaded 432\n",
      "Creating file table_whr.csv uploaded 433\n",
      "Creating file table_rtn.csv uploaded 434\n",
      "Creating file table_ntrs.csv uploaded 435\n",
      "Creating file table_molx.csv uploaded 436\n",
      "Creating file table_kmx.csv uploaded 437\n",
      "Creating file table_akam.csv uploaded 438\n",
      "Creating file table_pnc.csv uploaded 439\n",
      "Creating file table_pcs.csv uploaded 440\n",
      "Creating file table_avy.csv uploaded 441\n",
      "Creating file table_gci.csv uploaded 442\n",
      "Creating file table_tmk.csv uploaded 443\n",
      "Creating file table_spg.csv uploaded 444\n",
      "Creating file table_lh.csv uploaded 445\n",
      "Creating file table_myl.csv uploaded 446\n",
      "Creating file table_fhn.csv uploaded 447\n",
      "Creating file table_pcln.csv uploaded 448\n",
      "Creating file table_amd.csv uploaded 449\n",
      "Creating file table_wu.csv uploaded 450\n",
      "Creating file table_sjm.csv uploaded 451\n",
      "Creating file table_cmcsa.csv uploaded 452\n",
      "Creating file table_cvh.csv uploaded 453\n",
      "Creating file table_txn.csv uploaded 454\n",
      "Creating file table_clf.csv uploaded 455\n",
      "Creating file table_mmm.csv uploaded 456\n",
      "Creating file table_oxy.csv uploaded 457\n",
      "Creating file table_tmo.csv uploaded 458\n",
      "Creating file table_symc.csv uploaded 459\n",
      "Creating file table_cci.csv uploaded 460\n",
      "Creating file table_fitb.csv uploaded 461\n",
      "Creating file table_nee.csv uploaded 462\n",
      "Creating file table_leg.csv uploaded 463\n",
      "Creating file table_lm.csv uploaded 464\n",
      "Creating file table_wdc.csv uploaded 465\n",
      "Creating file table_emr.csv uploaded 466\n",
      "Creating file table_gas.csv uploaded 467\n",
      "Creating file table_pwr.csv uploaded 468\n",
      "Creating file table_ups.csv uploaded 469\n",
      "Creating file table_nflx.csv uploaded 470\n",
      "Creating file table_cb.csv uploaded 471\n",
      "Creating file table_ne.csv uploaded 472\n",
      "Creating file table_dhi.csv uploaded 473\n",
      "Creating file table_cma.csv uploaded 474\n",
      "Creating file table_amt.csv uploaded 475\n",
      "Creating file table_dell.csv uploaded 476\n",
      "Creating file table_cnx.csv uploaded 477\n",
      "Creating file table_hsy.csv uploaded 478\n",
      "Creating file table_jec.csv uploaded 479\n",
      "Creating file table_mos.csv uploaded 480\n",
      "Creating file table_bdx.csv uploaded 481\n",
      "Creating file table_lo.csv uploaded 482\n",
      "Creating file table_ecl.csv uploaded 483\n",
      "Creating file table_etr.csv uploaded 484\n",
      "Creating file table_pll.csv uploaded 485\n",
      "Creating file table_celg.csv uploaded 486\n",
      "Creating file table_glw.csv uploaded 487\n",
      "Creating file table_rai.csv uploaded 488\n",
      "Creating file table_gme.csv uploaded 489\n",
      "Creating file table_kmi.csv uploaded 490\n",
      "Creating file table_ca.csv uploaded 491\n",
      "Creating file table_life.csv uploaded 492\n",
      "Creating file table_pnr.csv uploaded 493\n",
      "Creating file table_mwv.csv uploaded 494\n",
      "Creating file table_twc.csv uploaded 495\n",
      "Creating file table_lsi.csv uploaded 496\n",
      "Creating file table_mcd.csv uploaded 497\n",
      "Creating file table_cat.csv uploaded 498\n",
      "Creating file table_coh.csv uploaded 499\n",
      "Creating file table_dlph.csv uploaded 500\n"
     ]
    }
   ],
   "source": [
    "uploaded = 0\n",
    "for i,file_meta in enumerate(file_list):\n",
    "  #clear_output()\n",
    "  file = drive.CreateFile({'id': file_meta[0]})\n",
    "  file.GetContentFile(file_meta[1])\n",
    "  uploaded += 1\n",
    "  print 'Creating file {} uploaded {}'.format(file_meta[1], uploaded)"
   ]
  },
  {
   "cell_type": "code",
   "execution_count": null,
   "metadata": {
    "colab": {
     "autoexec": {
      "startup": false,
      "wait_interval": 0
     }
    },
    "colab_type": "code",
    "id": "zd6Po5bzLpFd"
   },
   "outputs": [],
   "source": [
    "ticker_regex = re.compile('.+_(?P<ticker>.+)\\.csv')"
   ]
  },
  {
   "cell_type": "markdown",
   "metadata": {
    "colab_type": "text",
    "id": "weUqrWEWLpFh"
   },
   "source": [
    "#### Formula for Logarithmic Return: \\begin{equation*}R = ln(\\frac{V_f}{V_i})\\end{equation*}\n",
    "Source : https://en.wikipedia.org/wiki/Rate_of_return"
   ]
  },
  {
   "cell_type": "code",
   "execution_count": null,
   "metadata": {
    "colab": {
     "autoexec": {
      "startup": false,
      "wait_interval": 0
     }
    },
    "colab_type": "code",
    "id": "vVQw_OEgLpFi"
   },
   "outputs": [],
   "source": [
    "#helper functions\n",
    "def get_ticker(path):\n",
    "    return ticker_regex.match(path).groupdict()['ticker']\n",
    "\n",
    "def log_ret(vi,vf):\n",
    "    # Log return\n",
    "    return np.log(vf/vi)\n",
    "\n",
    "def zscore(x):\n",
    "    return (x - x.mean())/x.std()\n",
    "\n",
    "def prepare(file, data):\n",
    "    \"\"\"\n",
    "    O - Open\n",
    "    H - High\n",
    "    L - Low\n",
    "    C - Close\n",
    "    V - Volume\n",
    "    \"\"\"\n",
    "    df = pd.read_csv(data, header=None, names=['UNK', 'O', 'H', 'L', 'C', 'V'])\n",
    "    df.index = pd.to_datetime(df.index, format='%Y%m%d')\n",
    "    ticker = get_ticker(file)\n",
    "    res = pd.DataFrame()\n",
    "    \n",
    "    res['C_2_O'] = zscore(log_ret(df.O, df.C))\n",
    "    res['H_2_O'] = zscore(log_ret(df.O, df.H))\n",
    "    res['L_2_O'] = zscore(log_ret(df.O, df.L))\n",
    "    res['C_2_H'] = zscore(log_ret(df.H, df.C))\n",
    "    res['L_2_H'] = zscore(log_ret(df.H, df.L))\n",
    "    res['Ct_2_Ct1'] = log_ret(df.C, df.C.shift(-1)).fillna(0)\n",
    "    res['Vol'] = zscore(df.V)\n",
    "    res['Ticker'] = ticker\n",
    "    \n",
    "    return res\n",
    "\n",
    "def label(x):\n",
    "    if x > 0.0029:\n",
    "        return 1\n",
    "    if x < -0.00426:\n",
    "        return -1\n",
    "    return 0\n",
    "\n",
    "def interpolate(series, method='time'):\n",
    "    return series.interpolate(method=method)\n",
    "\n",
    "def plot_confusion_matrix(cm, classes,\n",
    "                        normalize=False,\n",
    "                        title='Confusion matrix',\n",
    "                        cmap=plt.cm.Blues):\n",
    "  \"\"\"\n",
    "  This function prints and plots the confusion matrix.\n",
    "  Normalization can be applied by setting `normalize=True`.\n",
    "  \"\"\"\n",
    "  if normalize:\n",
    "      cm = cm.astype('float') / cm.sum(axis=1)[:, np.newaxis]\n",
    "      print(\"Normalized confusion matrix\")\n",
    "  else:\n",
    "      print('Confusion matrix, without normalization')\n",
    "\n",
    "  #print(cm)\n",
    "  plt.figure(figsize=(7,5))\n",
    "  plt.imshow(cm, interpolation='nearest', cmap=cmap)\n",
    "  plt.title(title)\n",
    "  plt.colorbar()\n",
    "  tick_marks = np.arange(len(classes))\n",
    "  plt.xticks(tick_marks, classes, rotation=45)\n",
    "  plt.yticks(tick_marks, classes)\n",
    "\n",
    "  fmt = '.2f' if normalize else 'd'\n",
    "  thresh = cm.max() / 2.\n",
    "  for i, j in itertools.product(range(cm.shape[0]), range(cm.shape[1])):\n",
    "      plt.text(j, i, format(cm[i, j], fmt),\n",
    "               horizontalalignment=\"center\",\n",
    "               color=\"white\" if cm[i, j] > thresh else \"black\")\n",
    "\n",
    "  plt.tight_layout()\n",
    "  plt.ylabel('True label')\n",
    "  plt.xlabel('Predicted label')"
   ]
  },
  {
   "cell_type": "code",
   "execution_count": null,
   "metadata": {
    "colab": {
     "autoexec": {
      "startup": false,
      "wait_interval": 0
     }
    },
    "colab_type": "code",
    "id": "RLtYrZDjLpFm"
   },
   "outputs": [],
   "source": [
    "file_names = zip(*file_list)[1]\n",
    "filepaths = dict(zip(file_names, file_names))"
   ]
  },
  {
   "cell_type": "code",
   "execution_count": null,
   "metadata": {
    "colab": {
     "autoexec": {
      "startup": false,
      "wait_interval": 0
     }
    },
    "colab_type": "code",
    "id": "nP4HdPkOPJ_d"
   },
   "outputs": [],
   "source": [
    "k, v = filepaths.keys()[0], filepaths[filepaths.keys()[0]]"
   ]
  },
  {
   "cell_type": "code",
   "execution_count": null,
   "metadata": {
    "colab": {
     "autoexec": {
      "startup": false,
      "wait_interval": 0
     }
    },
    "colab_type": "code",
    "id": "RUDWxfyALpF0"
   },
   "outputs": [],
   "source": [
    "res = prepare(k,v)"
   ]
  },
  {
   "cell_type": "code",
   "execution_count": 14,
   "metadata": {
    "colab": {
     "autoexec": {
      "startup": false,
      "wait_interval": 0
     },
     "base_uri": "https://localhost:8080/",
     "height": 204,
     "output_extras": [
      {
       "item_id": 1
      }
     ]
    },
    "colab_type": "code",
    "executionInfo": {
     "elapsed": 305,
     "status": "ok",
     "timestamp": 1522511565816,
     "user": {
      "displayName": "Shivankur Kapoor",
      "photoUrl": "//lh6.googleusercontent.com/-PynCFKt_Vaw/AAAAAAAAAAI/AAAAAAAAAB0/gMErFHjIJjw/s50-c-k-no/photo.jpg",
      "userId": "105072539454715681442"
     },
     "user_tz": 240
    },
    "id": "xmxT-55hLpGJ",
    "outputId": "a6e4d657-a7e0-44e2-a43a-a397fdeb30b7"
   },
   "outputs": [
    {
     "data": {
      "text/html": [
       "<div>\n",
       "<style scoped>\n",
       "    .dataframe tbody tr th:only-of-type {\n",
       "        vertical-align: middle;\n",
       "    }\n",
       "\n",
       "    .dataframe tbody tr th {\n",
       "        vertical-align: top;\n",
       "    }\n",
       "\n",
       "    .dataframe thead th {\n",
       "        text-align: right;\n",
       "    }\n",
       "</style>\n",
       "<table border=\"1\" class=\"dataframe\">\n",
       "  <thead>\n",
       "    <tr style=\"text-align: right;\">\n",
       "      <th></th>\n",
       "      <th>C_2_O</th>\n",
       "      <th>H_2_O</th>\n",
       "      <th>L_2_O</th>\n",
       "      <th>C_2_H</th>\n",
       "      <th>L_2_H</th>\n",
       "      <th>Ct_2_Ct1</th>\n",
       "      <th>Vol</th>\n",
       "      <th>Ticker</th>\n",
       "    </tr>\n",
       "  </thead>\n",
       "  <tbody>\n",
       "    <tr>\n",
       "      <th>1998-01-02</th>\n",
       "      <td>0.669796</td>\n",
       "      <td>0.230512</td>\n",
       "      <td>-0.523940</td>\n",
       "      <td>0.723184</td>\n",
       "      <td>-0.616331</td>\n",
       "      <td>-0.042706</td>\n",
       "      <td>-1.000322</td>\n",
       "      <td>tsn</td>\n",
       "    </tr>\n",
       "    <tr>\n",
       "      <th>1998-01-05</th>\n",
       "      <td>-1.656122</td>\n",
       "      <td>-0.892182</td>\n",
       "      <td>-1.874936</td>\n",
       "      <td>-1.447246</td>\n",
       "      <td>-0.914263</td>\n",
       "      <td>-0.009571</td>\n",
       "      <td>-0.877170</td>\n",
       "      <td>tsn</td>\n",
       "    </tr>\n",
       "    <tr>\n",
       "      <th>1998-01-06</th>\n",
       "      <td>-0.699798</td>\n",
       "      <td>-0.497357</td>\n",
       "      <td>-0.193631</td>\n",
       "      <td>-0.484204</td>\n",
       "      <td>0.210318</td>\n",
       "      <td>-0.028767</td>\n",
       "      <td>-0.911927</td>\n",
       "      <td>tsn</td>\n",
       "    </tr>\n",
       "    <tr>\n",
       "      <th>1998-01-07</th>\n",
       "      <td>-1.290847</td>\n",
       "      <td>-0.892182</td>\n",
       "      <td>-0.915628</td>\n",
       "      <td>-0.919868</td>\n",
       "      <td>-0.103192</td>\n",
       "      <td>0.012943</td>\n",
       "      <td>-0.912075</td>\n",
       "      <td>tsn</td>\n",
       "    </tr>\n",
       "    <tr>\n",
       "      <th>1998-01-08</th>\n",
       "      <td>0.437427</td>\n",
       "      <td>0.302705</td>\n",
       "      <td>0.648728</td>\n",
       "      <td>0.311320</td>\n",
       "      <td>0.320840</td>\n",
       "      <td>0.028402</td>\n",
       "      <td>-0.935049</td>\n",
       "      <td>tsn</td>\n",
       "    </tr>\n",
       "  </tbody>\n",
       "</table>\n",
       "</div>"
      ],
      "text/plain": [
       "               C_2_O     H_2_O     L_2_O     C_2_H     L_2_H  Ct_2_Ct1  \\\n",
       "1998-01-02  0.669796  0.230512 -0.523940  0.723184 -0.616331 -0.042706   \n",
       "1998-01-05 -1.656122 -0.892182 -1.874936 -1.447246 -0.914263 -0.009571   \n",
       "1998-01-06 -0.699798 -0.497357 -0.193631 -0.484204  0.210318 -0.028767   \n",
       "1998-01-07 -1.290847 -0.892182 -0.915628 -0.919868 -0.103192  0.012943   \n",
       "1998-01-08  0.437427  0.302705  0.648728  0.311320  0.320840  0.028402   \n",
       "\n",
       "                 Vol Ticker  \n",
       "1998-01-02 -1.000322    tsn  \n",
       "1998-01-05 -0.877170    tsn  \n",
       "1998-01-06 -0.911927    tsn  \n",
       "1998-01-07 -0.912075    tsn  \n",
       "1998-01-08 -0.935049    tsn  "
      ]
     },
     "execution_count": 14,
     "metadata": {
      "tags": []
     },
     "output_type": "execute_result"
    }
   ],
   "source": [
    "res.head()"
   ]
  },
  {
   "cell_type": "code",
   "execution_count": 15,
   "metadata": {
    "colab": {
     "autoexec": {
      "startup": false,
      "wait_interval": 0
     },
     "base_uri": "https://localhost:8080/",
     "height": 266,
     "output_extras": [
      {
       "item_id": 1
      }
     ]
    },
    "colab_type": "code",
    "executionInfo": {
     "elapsed": 235,
     "status": "ok",
     "timestamp": 1522511566325,
     "user": {
      "displayName": "Shivankur Kapoor",
      "photoUrl": "//lh6.googleusercontent.com/-PynCFKt_Vaw/AAAAAAAAAAI/AAAAAAAAAB0/gMErFHjIJjw/s50-c-k-no/photo.jpg",
      "userId": "105072539454715681442"
     },
     "user_tz": 240
    },
    "id": "uYrEiQAtLpGp",
    "outputId": "6224d7bb-9b3f-4936-8206-8e3dac78255d"
   },
   "outputs": [
    {
     "data": {
      "text/html": [
       "<div>\n",
       "<style scoped>\n",
       "    .dataframe tbody tr th:only-of-type {\n",
       "        vertical-align: middle;\n",
       "    }\n",
       "\n",
       "    .dataframe tbody tr th {\n",
       "        vertical-align: top;\n",
       "    }\n",
       "\n",
       "    .dataframe thead th {\n",
       "        text-align: right;\n",
       "    }\n",
       "</style>\n",
       "<table border=\"1\" class=\"dataframe\">\n",
       "  <thead>\n",
       "    <tr style=\"text-align: right;\">\n",
       "      <th></th>\n",
       "      <th>C_2_O</th>\n",
       "      <th>H_2_O</th>\n",
       "      <th>L_2_O</th>\n",
       "      <th>C_2_H</th>\n",
       "      <th>L_2_H</th>\n",
       "      <th>Ct_2_Ct1</th>\n",
       "      <th>Vol</th>\n",
       "    </tr>\n",
       "  </thead>\n",
       "  <tbody>\n",
       "    <tr>\n",
       "      <th>C_2_O</th>\n",
       "      <td>1.000000</td>\n",
       "      <td>0.721388</td>\n",
       "      <td>0.676506</td>\n",
       "      <td>0.680629</td>\n",
       "      <td>0.029462</td>\n",
       "      <td>0.014872</td>\n",
       "      <td>-0.012813</td>\n",
       "    </tr>\n",
       "    <tr>\n",
       "      <th>H_2_O</th>\n",
       "      <td>0.721388</td>\n",
       "      <td>1.000000</td>\n",
       "      <td>0.220486</td>\n",
       "      <td>-0.016370</td>\n",
       "      <td>-0.565617</td>\n",
       "      <td>0.023317</td>\n",
       "      <td>0.187865</td>\n",
       "    </tr>\n",
       "    <tr>\n",
       "      <th>L_2_O</th>\n",
       "      <td>0.676506</td>\n",
       "      <td>0.220486</td>\n",
       "      <td>1.000000</td>\n",
       "      <td>0.743478</td>\n",
       "      <td>0.679663</td>\n",
       "      <td>0.029052</td>\n",
       "      <td>-0.273075</td>\n",
       "    </tr>\n",
       "    <tr>\n",
       "      <th>C_2_H</th>\n",
       "      <td>0.680629</td>\n",
       "      <td>-0.016370</td>\n",
       "      <td>0.743478</td>\n",
       "      <td>1.000000</td>\n",
       "      <td>0.640903</td>\n",
       "      <td>-0.003195</td>\n",
       "      <td>-0.217241</td>\n",
       "    </tr>\n",
       "    <tr>\n",
       "      <th>L_2_H</th>\n",
       "      <td>0.029462</td>\n",
       "      <td>-0.565617</td>\n",
       "      <td>0.679663</td>\n",
       "      <td>0.640903</td>\n",
       "      <td>1.000000</td>\n",
       "      <td>0.007028</td>\n",
       "      <td>-0.372159</td>\n",
       "    </tr>\n",
       "    <tr>\n",
       "      <th>Ct_2_Ct1</th>\n",
       "      <td>0.014872</td>\n",
       "      <td>0.023317</td>\n",
       "      <td>0.029052</td>\n",
       "      <td>-0.003195</td>\n",
       "      <td>0.007028</td>\n",
       "      <td>1.000000</td>\n",
       "      <td>0.022704</td>\n",
       "    </tr>\n",
       "    <tr>\n",
       "      <th>Vol</th>\n",
       "      <td>-0.012813</td>\n",
       "      <td>0.187865</td>\n",
       "      <td>-0.273075</td>\n",
       "      <td>-0.217241</td>\n",
       "      <td>-0.372159</td>\n",
       "      <td>0.022704</td>\n",
       "      <td>1.000000</td>\n",
       "    </tr>\n",
       "  </tbody>\n",
       "</table>\n",
       "</div>"
      ],
      "text/plain": [
       "             C_2_O     H_2_O     L_2_O     C_2_H     L_2_H  Ct_2_Ct1       Vol\n",
       "C_2_O     1.000000  0.721388  0.676506  0.680629  0.029462  0.014872 -0.012813\n",
       "H_2_O     0.721388  1.000000  0.220486 -0.016370 -0.565617  0.023317  0.187865\n",
       "L_2_O     0.676506  0.220486  1.000000  0.743478  0.679663  0.029052 -0.273075\n",
       "C_2_H     0.680629 -0.016370  0.743478  1.000000  0.640903 -0.003195 -0.217241\n",
       "L_2_H     0.029462 -0.565617  0.679663  0.640903  1.000000  0.007028 -0.372159\n",
       "Ct_2_Ct1  0.014872  0.023317  0.029052 -0.003195  0.007028  1.000000  0.022704\n",
       "Vol      -0.012813  0.187865 -0.273075 -0.217241 -0.372159  0.022704  1.000000"
      ]
     },
     "execution_count": 15,
     "metadata": {
      "tags": []
     },
     "output_type": "execute_result"
    }
   ],
   "source": [
    "res.corr()"
   ]
  },
  {
   "cell_type": "code",
   "execution_count": null,
   "metadata": {
    "colab": {
     "autoexec": {
      "startup": false,
      "wait_interval": 0
     }
    },
    "colab_type": "code",
    "id": "rmPVQ8VYLpHB"
   },
   "outputs": [],
   "source": [
    "#generating full dataset\n",
    "final = pd.DataFrame()\n",
    "for res in [prepare(file, data) for file, data in filepaths.iteritems()]:\n",
    "    final = final.append(res)"
   ]
  },
  {
   "cell_type": "code",
   "execution_count": null,
   "metadata": {
    "colab": {
     "autoexec": {
      "startup": false,
      "wait_interval": 0
     }
    },
    "colab_type": "code",
    "id": "pyfMyO94LpHG"
   },
   "outputs": [],
   "source": [
    "final = final.sort_index()"
   ]
  },
  {
   "cell_type": "code",
   "execution_count": 18,
   "metadata": {
    "colab": {
     "autoexec": {
      "startup": false,
      "wait_interval": 0
     },
     "base_uri": "https://localhost:8080/",
     "height": 204,
     "output_extras": [
      {
       "item_id": 1
      }
     ]
    },
    "colab_type": "code",
    "executionInfo": {
     "elapsed": 236,
     "status": "ok",
     "timestamp": 1522511593813,
     "user": {
      "displayName": "Shivankur Kapoor",
      "photoUrl": "//lh6.googleusercontent.com/-PynCFKt_Vaw/AAAAAAAAAAI/AAAAAAAAAB0/gMErFHjIJjw/s50-c-k-no/photo.jpg",
      "userId": "105072539454715681442"
     },
     "user_tz": 240
    },
    "id": "jpFMaQMuLpHJ",
    "outputId": "f85ac530-850c-4231-df7c-bdfb33358020"
   },
   "outputs": [
    {
     "data": {
      "text/html": [
       "<div>\n",
       "<style scoped>\n",
       "    .dataframe tbody tr th:only-of-type {\n",
       "        vertical-align: middle;\n",
       "    }\n",
       "\n",
       "    .dataframe tbody tr th {\n",
       "        vertical-align: top;\n",
       "    }\n",
       "\n",
       "    .dataframe thead th {\n",
       "        text-align: right;\n",
       "    }\n",
       "</style>\n",
       "<table border=\"1\" class=\"dataframe\">\n",
       "  <thead>\n",
       "    <tr style=\"text-align: right;\">\n",
       "      <th></th>\n",
       "      <th>C_2_O</th>\n",
       "      <th>H_2_O</th>\n",
       "      <th>L_2_O</th>\n",
       "      <th>C_2_H</th>\n",
       "      <th>L_2_H</th>\n",
       "      <th>Ct_2_Ct1</th>\n",
       "      <th>Vol</th>\n",
       "      <th>Ticker</th>\n",
       "    </tr>\n",
       "  </thead>\n",
       "  <tbody>\n",
       "    <tr>\n",
       "      <th>1998-01-02</th>\n",
       "      <td>0.669796</td>\n",
       "      <td>0.230512</td>\n",
       "      <td>-0.523940</td>\n",
       "      <td>0.723184</td>\n",
       "      <td>-0.616331</td>\n",
       "      <td>-0.042706</td>\n",
       "      <td>-1.000322</td>\n",
       "      <td>tsn</td>\n",
       "    </tr>\n",
       "    <tr>\n",
       "      <th>1998-01-02</th>\n",
       "      <td>0.082360</td>\n",
       "      <td>-0.473438</td>\n",
       "      <td>0.985853</td>\n",
       "      <td>0.683068</td>\n",
       "      <td>1.231114</td>\n",
       "      <td>0.001230</td>\n",
       "      <td>-1.075403</td>\n",
       "      <td>gww</td>\n",
       "    </tr>\n",
       "    <tr>\n",
       "      <th>1998-01-02</th>\n",
       "      <td>-1.429900</td>\n",
       "      <td>-0.185200</td>\n",
       "      <td>-0.941204</td>\n",
       "      <td>-1.941517</td>\n",
       "      <td>-0.655104</td>\n",
       "      <td>-0.012480</td>\n",
       "      <td>-0.528631</td>\n",
       "      <td>bcr</td>\n",
       "    </tr>\n",
       "    <tr>\n",
       "      <th>1998-01-02</th>\n",
       "      <td>1.620307</td>\n",
       "      <td>1.692715</td>\n",
       "      <td>0.768630</td>\n",
       "      <td>0.610919</td>\n",
       "      <td>-0.770056</td>\n",
       "      <td>0.011234</td>\n",
       "      <td>-0.788180</td>\n",
       "      <td>mu</td>\n",
       "    </tr>\n",
       "    <tr>\n",
       "      <th>1998-01-02</th>\n",
       "      <td>0.026352</td>\n",
       "      <td>-0.118402</td>\n",
       "      <td>-0.421800</td>\n",
       "      <td>0.162533</td>\n",
       "      <td>-0.246748</td>\n",
       "      <td>0.034362</td>\n",
       "      <td>0.048067</td>\n",
       "      <td>pcar</td>\n",
       "    </tr>\n",
       "  </tbody>\n",
       "</table>\n",
       "</div>"
      ],
      "text/plain": [
       "               C_2_O     H_2_O     L_2_O     C_2_H     L_2_H  Ct_2_Ct1  \\\n",
       "1998-01-02  0.669796  0.230512 -0.523940  0.723184 -0.616331 -0.042706   \n",
       "1998-01-02  0.082360 -0.473438  0.985853  0.683068  1.231114  0.001230   \n",
       "1998-01-02 -1.429900 -0.185200 -0.941204 -1.941517 -0.655104 -0.012480   \n",
       "1998-01-02  1.620307  1.692715  0.768630  0.610919 -0.770056  0.011234   \n",
       "1998-01-02  0.026352 -0.118402 -0.421800  0.162533 -0.246748  0.034362   \n",
       "\n",
       "                 Vol Ticker  \n",
       "1998-01-02 -1.000322    tsn  \n",
       "1998-01-02 -1.075403    gww  \n",
       "1998-01-02 -0.528631    bcr  \n",
       "1998-01-02 -0.788180     mu  \n",
       "1998-01-02  0.048067   pcar  "
      ]
     },
     "execution_count": 18,
     "metadata": {
      "tags": []
     },
     "output_type": "execute_result"
    }
   ],
   "source": [
    "final.head()"
   ]
  },
  {
   "cell_type": "code",
   "execution_count": null,
   "metadata": {
    "colab": {
     "autoexec": {
      "startup": false,
      "wait_interval": 0
     }
    },
    "colab_type": "code",
    "id": "236ffIytlNw6"
   },
   "outputs": [],
   "source": [
    "del filepaths # to free up some memory"
   ]
  },
  {
   "cell_type": "code",
   "execution_count": null,
   "metadata": {
    "colab": {
     "autoexec": {
      "startup": false,
      "wait_interval": 0
     }
    },
    "colab_type": "code",
    "id": "H-pf0zSELpHP"
   },
   "outputs": [],
   "source": [
    "pivot_cols = final.columns[:-1]\n",
    "p = final.pivot_table(index=final.index, columns='Ticker', values=pivot_cols)"
   ]
  },
  {
   "cell_type": "code",
   "execution_count": 21,
   "metadata": {
    "colab": {
     "autoexec": {
      "startup": false,
      "wait_interval": 0
     },
     "base_uri": "https://localhost:8080/",
     "height": 264,
     "output_extras": [
      {
       "item_id": 1
      }
     ]
    },
    "colab_type": "code",
    "executionInfo": {
     "elapsed": 257,
     "status": "ok",
     "timestamp": 1522511604301,
     "user": {
      "displayName": "Shivankur Kapoor",
      "photoUrl": "//lh6.googleusercontent.com/-PynCFKt_Vaw/AAAAAAAAAAI/AAAAAAAAAB0/gMErFHjIJjw/s50-c-k-no/photo.jpg",
      "userId": "105072539454715681442"
     },
     "user_tz": 240
    },
    "id": "zdmTvEiILpHV",
    "outputId": "1ce36f10-f391-43e8-caa3-46a120b3e20b"
   },
   "outputs": [
    {
     "data": {
      "text/html": [
       "<div>\n",
       "<style scoped>\n",
       "    .dataframe tbody tr th:only-of-type {\n",
       "        vertical-align: middle;\n",
       "    }\n",
       "\n",
       "    .dataframe tbody tr th {\n",
       "        vertical-align: top;\n",
       "    }\n",
       "\n",
       "    .dataframe thead tr th {\n",
       "        text-align: left;\n",
       "    }\n",
       "</style>\n",
       "<table border=\"1\" class=\"dataframe\">\n",
       "  <thead>\n",
       "    <tr>\n",
       "      <th></th>\n",
       "      <th colspan=\"10\" halign=\"left\">C_2_H</th>\n",
       "      <th>...</th>\n",
       "      <th colspan=\"10\" halign=\"left\">Vol</th>\n",
       "    </tr>\n",
       "    <tr>\n",
       "      <th>Ticker</th>\n",
       "      <th>a</th>\n",
       "      <th>aa</th>\n",
       "      <th>aapl</th>\n",
       "      <th>abbv</th>\n",
       "      <th>abc</th>\n",
       "      <th>abt</th>\n",
       "      <th>ace</th>\n",
       "      <th>acn</th>\n",
       "      <th>act</th>\n",
       "      <th>adbe</th>\n",
       "      <th>...</th>\n",
       "      <th>xl</th>\n",
       "      <th>xlnx</th>\n",
       "      <th>xom</th>\n",
       "      <th>xray</th>\n",
       "      <th>xrx</th>\n",
       "      <th>xyl</th>\n",
       "      <th>yhoo</th>\n",
       "      <th>yum</th>\n",
       "      <th>zion</th>\n",
       "      <th>zmh</th>\n",
       "    </tr>\n",
       "  </thead>\n",
       "  <tbody>\n",
       "    <tr>\n",
       "      <th>1998-01-02</th>\n",
       "      <td>NaN</td>\n",
       "      <td>0.670259</td>\n",
       "      <td>1.019696</td>\n",
       "      <td>NaN</td>\n",
       "      <td>0.296978</td>\n",
       "      <td>1.031419</td>\n",
       "      <td>0.029617</td>\n",
       "      <td>NaN</td>\n",
       "      <td>-0.347198</td>\n",
       "      <td>0.457108</td>\n",
       "      <td>...</td>\n",
       "      <td>-0.676802</td>\n",
       "      <td>1.391497</td>\n",
       "      <td>-1.045626</td>\n",
       "      <td>-1.147952</td>\n",
       "      <td>-0.817355</td>\n",
       "      <td>NaN</td>\n",
       "      <td>-0.368713</td>\n",
       "      <td>-0.678763</td>\n",
       "      <td>-0.724482</td>\n",
       "      <td>NaN</td>\n",
       "    </tr>\n",
       "    <tr>\n",
       "      <th>1998-01-05</th>\n",
       "      <td>NaN</td>\n",
       "      <td>0.462520</td>\n",
       "      <td>-0.984079</td>\n",
       "      <td>NaN</td>\n",
       "      <td>-0.103694</td>\n",
       "      <td>0.208524</td>\n",
       "      <td>0.200087</td>\n",
       "      <td>NaN</td>\n",
       "      <td>0.748953</td>\n",
       "      <td>0.140341</td>\n",
       "      <td>...</td>\n",
       "      <td>-0.621025</td>\n",
       "      <td>1.019607</td>\n",
       "      <td>-0.615370</td>\n",
       "      <td>-0.556684</td>\n",
       "      <td>-0.757660</td>\n",
       "      <td>NaN</td>\n",
       "      <td>0.064841</td>\n",
       "      <td>0.980283</td>\n",
       "      <td>-0.735275</td>\n",
       "      <td>NaN</td>\n",
       "    </tr>\n",
       "    <tr>\n",
       "      <th>1998-01-06</th>\n",
       "      <td>NaN</td>\n",
       "      <td>-0.088471</td>\n",
       "      <td>-3.590776</td>\n",
       "      <td>NaN</td>\n",
       "      <td>-0.684038</td>\n",
       "      <td>-0.458034</td>\n",
       "      <td>0.826198</td>\n",
       "      <td>NaN</td>\n",
       "      <td>-0.839167</td>\n",
       "      <td>-0.288677</td>\n",
       "      <td>...</td>\n",
       "      <td>-0.634169</td>\n",
       "      <td>0.020195</td>\n",
       "      <td>-0.527923</td>\n",
       "      <td>-1.131583</td>\n",
       "      <td>-0.629732</td>\n",
       "      <td>NaN</td>\n",
       "      <td>0.150071</td>\n",
       "      <td>1.697887</td>\n",
       "      <td>-0.683202</td>\n",
       "      <td>NaN</td>\n",
       "    </tr>\n",
       "    <tr>\n",
       "      <th>1998-01-07</th>\n",
       "      <td>NaN</td>\n",
       "      <td>1.002099</td>\n",
       "      <td>-4.732173</td>\n",
       "      <td>NaN</td>\n",
       "      <td>0.921365</td>\n",
       "      <td>1.031419</td>\n",
       "      <td>-0.221831</td>\n",
       "      <td>NaN</td>\n",
       "      <td>-0.297508</td>\n",
       "      <td>0.080277</td>\n",
       "      <td>...</td>\n",
       "      <td>-0.616242</td>\n",
       "      <td>1.023705</td>\n",
       "      <td>-0.134130</td>\n",
       "      <td>-0.329006</td>\n",
       "      <td>-0.504232</td>\n",
       "      <td>NaN</td>\n",
       "      <td>-0.463651</td>\n",
       "      <td>0.515268</td>\n",
       "      <td>-0.635858</td>\n",
       "      <td>NaN</td>\n",
       "    </tr>\n",
       "    <tr>\n",
       "      <th>1998-01-08</th>\n",
       "      <td>NaN</td>\n",
       "      <td>-2.074267</td>\n",
       "      <td>-0.790227</td>\n",
       "      <td>NaN</td>\n",
       "      <td>0.602449</td>\n",
       "      <td>0.474420</td>\n",
       "      <td>0.197524</td>\n",
       "      <td>NaN</td>\n",
       "      <td>0.886626</td>\n",
       "      <td>0.327069</td>\n",
       "      <td>...</td>\n",
       "      <td>-0.655003</td>\n",
       "      <td>0.645285</td>\n",
       "      <td>-0.907375</td>\n",
       "      <td>-1.066107</td>\n",
       "      <td>-0.560549</td>\n",
       "      <td>NaN</td>\n",
       "      <td>-0.157777</td>\n",
       "      <td>0.235907</td>\n",
       "      <td>-0.605092</td>\n",
       "      <td>NaN</td>\n",
       "    </tr>\n",
       "  </tbody>\n",
       "</table>\n",
       "<p>5 rows × 3500 columns</p>\n",
       "</div>"
      ],
      "text/plain": [
       "           C_2_H                                                             \\\n",
       "Ticker         a        aa      aapl abbv       abc       abt       ace acn   \n",
       "1998-01-02   NaN  0.670259  1.019696  NaN  0.296978  1.031419  0.029617 NaN   \n",
       "1998-01-05   NaN  0.462520 -0.984079  NaN -0.103694  0.208524  0.200087 NaN   \n",
       "1998-01-06   NaN -0.088471 -3.590776  NaN -0.684038 -0.458034  0.826198 NaN   \n",
       "1998-01-07   NaN  1.002099 -4.732173  NaN  0.921365  1.031419 -0.221831 NaN   \n",
       "1998-01-08   NaN -2.074267 -0.790227  NaN  0.602449  0.474420  0.197524 NaN   \n",
       "\n",
       "                               ...       Vol                                \\\n",
       "Ticker           act      adbe ...        xl      xlnx       xom      xray   \n",
       "1998-01-02 -0.347198  0.457108 ... -0.676802  1.391497 -1.045626 -1.147952   \n",
       "1998-01-05  0.748953  0.140341 ... -0.621025  1.019607 -0.615370 -0.556684   \n",
       "1998-01-06 -0.839167 -0.288677 ... -0.634169  0.020195 -0.527923 -1.131583   \n",
       "1998-01-07 -0.297508  0.080277 ... -0.616242  1.023705 -0.134130 -0.329006   \n",
       "1998-01-08  0.886626  0.327069 ... -0.655003  0.645285 -0.907375 -1.066107   \n",
       "\n",
       "                                                            \n",
       "Ticker           xrx xyl      yhoo       yum      zion zmh  \n",
       "1998-01-02 -0.817355 NaN -0.368713 -0.678763 -0.724482 NaN  \n",
       "1998-01-05 -0.757660 NaN  0.064841  0.980283 -0.735275 NaN  \n",
       "1998-01-06 -0.629732 NaN  0.150071  1.697887 -0.683202 NaN  \n",
       "1998-01-07 -0.504232 NaN -0.463651  0.515268 -0.635858 NaN  \n",
       "1998-01-08 -0.560549 NaN -0.157777  0.235907 -0.605092 NaN  \n",
       "\n",
       "[5 rows x 3500 columns]"
      ]
     },
     "execution_count": 21,
     "metadata": {
      "tags": []
     },
     "output_type": "execute_result"
    }
   ],
   "source": [
    "p.head()"
   ]
  },
  {
   "cell_type": "code",
   "execution_count": null,
   "metadata": {
    "colab": {
     "autoexec": {
      "startup": false,
      "wait_interval": 0
     }
    },
    "colab_type": "code",
    "id": "RyrXmGBuLpHf"
   },
   "outputs": [],
   "source": [
    "cols = p.columns.tolist()"
   ]
  },
  {
   "cell_type": "code",
   "execution_count": null,
   "metadata": {
    "colab": {
     "autoexec": {
      "startup": false,
      "wait_interval": 0
     }
    },
    "colab_type": "code",
    "id": "9icozZdsLpHj"
   },
   "outputs": [],
   "source": [
    "new_idx = pd.Index(col[0] + '_' + col[1]for col in cols)"
   ]
  },
  {
   "cell_type": "code",
   "execution_count": null,
   "metadata": {
    "colab": {
     "autoexec": {
      "startup": false,
      "wait_interval": 0
     }
    },
    "colab_type": "code",
    "id": "Utj1MlqQLpHp"
   },
   "outputs": [],
   "source": [
    "p.columns = new_idx\n",
    "p = p.sort_index(axis=1)"
   ]
  },
  {
   "cell_type": "code",
   "execution_count": 25,
   "metadata": {
    "colab": {
     "autoexec": {
      "startup": false,
      "wait_interval": 0
     },
     "base_uri": "https://localhost:8080/",
     "height": 338,
     "output_extras": [
      {
       "item_id": 1
      }
     ]
    },
    "colab_type": "code",
    "executionInfo": {
     "elapsed": 307,
     "status": "ok",
     "timestamp": 1522511608083,
     "user": {
      "displayName": "Shivankur Kapoor",
      "photoUrl": "//lh6.googleusercontent.com/-PynCFKt_Vaw/AAAAAAAAAAI/AAAAAAAAAB0/gMErFHjIJjw/s50-c-k-no/photo.jpg",
      "userId": "105072539454715681442"
     },
     "user_tz": 240
    },
    "id": "mezugMHCLpHy",
    "outputId": "2325c194-49a1-4717-b735-15210fe18dc0"
   },
   "outputs": [
    {
     "data": {
      "text/html": [
       "<div>\n",
       "<style scoped>\n",
       "    .dataframe tbody tr th:only-of-type {\n",
       "        vertical-align: middle;\n",
       "    }\n",
       "\n",
       "    .dataframe tbody tr th {\n",
       "        vertical-align: top;\n",
       "    }\n",
       "\n",
       "    .dataframe thead th {\n",
       "        text-align: right;\n",
       "    }\n",
       "</style>\n",
       "<table border=\"1\" class=\"dataframe\">\n",
       "  <thead>\n",
       "    <tr style=\"text-align: right;\">\n",
       "      <th></th>\n",
       "      <th>C_2_H_a</th>\n",
       "      <th>C_2_H_aa</th>\n",
       "      <th>C_2_H_aapl</th>\n",
       "      <th>C_2_H_abbv</th>\n",
       "      <th>C_2_H_abc</th>\n",
       "      <th>C_2_H_abt</th>\n",
       "      <th>C_2_H_ace</th>\n",
       "      <th>C_2_H_acn</th>\n",
       "      <th>C_2_H_act</th>\n",
       "      <th>C_2_H_adbe</th>\n",
       "      <th>...</th>\n",
       "      <th>Vol_xl</th>\n",
       "      <th>Vol_xlnx</th>\n",
       "      <th>Vol_xom</th>\n",
       "      <th>Vol_xray</th>\n",
       "      <th>Vol_xrx</th>\n",
       "      <th>Vol_xyl</th>\n",
       "      <th>Vol_yhoo</th>\n",
       "      <th>Vol_yum</th>\n",
       "      <th>Vol_zion</th>\n",
       "      <th>Vol_zmh</th>\n",
       "    </tr>\n",
       "  </thead>\n",
       "  <tbody>\n",
       "    <tr>\n",
       "      <th>1998-01-02</th>\n",
       "      <td>NaN</td>\n",
       "      <td>0.670259</td>\n",
       "      <td>1.019696</td>\n",
       "      <td>NaN</td>\n",
       "      <td>0.296978</td>\n",
       "      <td>1.031419</td>\n",
       "      <td>0.029617</td>\n",
       "      <td>NaN</td>\n",
       "      <td>-0.347198</td>\n",
       "      <td>0.457108</td>\n",
       "      <td>...</td>\n",
       "      <td>-0.676802</td>\n",
       "      <td>1.391497</td>\n",
       "      <td>-1.045626</td>\n",
       "      <td>-1.147952</td>\n",
       "      <td>-0.817355</td>\n",
       "      <td>NaN</td>\n",
       "      <td>-0.368713</td>\n",
       "      <td>-0.678763</td>\n",
       "      <td>-0.724482</td>\n",
       "      <td>NaN</td>\n",
       "    </tr>\n",
       "    <tr>\n",
       "      <th>1998-01-05</th>\n",
       "      <td>NaN</td>\n",
       "      <td>0.462520</td>\n",
       "      <td>-0.984079</td>\n",
       "      <td>NaN</td>\n",
       "      <td>-0.103694</td>\n",
       "      <td>0.208524</td>\n",
       "      <td>0.200087</td>\n",
       "      <td>NaN</td>\n",
       "      <td>0.748953</td>\n",
       "      <td>0.140341</td>\n",
       "      <td>...</td>\n",
       "      <td>-0.621025</td>\n",
       "      <td>1.019607</td>\n",
       "      <td>-0.615370</td>\n",
       "      <td>-0.556684</td>\n",
       "      <td>-0.757660</td>\n",
       "      <td>NaN</td>\n",
       "      <td>0.064841</td>\n",
       "      <td>0.980283</td>\n",
       "      <td>-0.735275</td>\n",
       "      <td>NaN</td>\n",
       "    </tr>\n",
       "    <tr>\n",
       "      <th>1998-01-06</th>\n",
       "      <td>NaN</td>\n",
       "      <td>-0.088471</td>\n",
       "      <td>-3.590776</td>\n",
       "      <td>NaN</td>\n",
       "      <td>-0.684038</td>\n",
       "      <td>-0.458034</td>\n",
       "      <td>0.826198</td>\n",
       "      <td>NaN</td>\n",
       "      <td>-0.839167</td>\n",
       "      <td>-0.288677</td>\n",
       "      <td>...</td>\n",
       "      <td>-0.634169</td>\n",
       "      <td>0.020195</td>\n",
       "      <td>-0.527923</td>\n",
       "      <td>-1.131583</td>\n",
       "      <td>-0.629732</td>\n",
       "      <td>NaN</td>\n",
       "      <td>0.150071</td>\n",
       "      <td>1.697887</td>\n",
       "      <td>-0.683202</td>\n",
       "      <td>NaN</td>\n",
       "    </tr>\n",
       "    <tr>\n",
       "      <th>1998-01-07</th>\n",
       "      <td>NaN</td>\n",
       "      <td>1.002099</td>\n",
       "      <td>-4.732173</td>\n",
       "      <td>NaN</td>\n",
       "      <td>0.921365</td>\n",
       "      <td>1.031419</td>\n",
       "      <td>-0.221831</td>\n",
       "      <td>NaN</td>\n",
       "      <td>-0.297508</td>\n",
       "      <td>0.080277</td>\n",
       "      <td>...</td>\n",
       "      <td>-0.616242</td>\n",
       "      <td>1.023705</td>\n",
       "      <td>-0.134130</td>\n",
       "      <td>-0.329006</td>\n",
       "      <td>-0.504232</td>\n",
       "      <td>NaN</td>\n",
       "      <td>-0.463651</td>\n",
       "      <td>0.515268</td>\n",
       "      <td>-0.635858</td>\n",
       "      <td>NaN</td>\n",
       "    </tr>\n",
       "    <tr>\n",
       "      <th>1998-01-08</th>\n",
       "      <td>NaN</td>\n",
       "      <td>-2.074267</td>\n",
       "      <td>-0.790227</td>\n",
       "      <td>NaN</td>\n",
       "      <td>0.602449</td>\n",
       "      <td>0.474420</td>\n",
       "      <td>0.197524</td>\n",
       "      <td>NaN</td>\n",
       "      <td>0.886626</td>\n",
       "      <td>0.327069</td>\n",
       "      <td>...</td>\n",
       "      <td>-0.655003</td>\n",
       "      <td>0.645285</td>\n",
       "      <td>-0.907375</td>\n",
       "      <td>-1.066107</td>\n",
       "      <td>-0.560549</td>\n",
       "      <td>NaN</td>\n",
       "      <td>-0.157777</td>\n",
       "      <td>0.235907</td>\n",
       "      <td>-0.605092</td>\n",
       "      <td>NaN</td>\n",
       "    </tr>\n",
       "  </tbody>\n",
       "</table>\n",
       "<p>5 rows × 3500 columns</p>\n",
       "</div>"
      ],
      "text/plain": [
       "            C_2_H_a  C_2_H_aa  C_2_H_aapl  C_2_H_abbv  C_2_H_abc  C_2_H_abt  \\\n",
       "1998-01-02      NaN  0.670259    1.019696         NaN   0.296978   1.031419   \n",
       "1998-01-05      NaN  0.462520   -0.984079         NaN  -0.103694   0.208524   \n",
       "1998-01-06      NaN -0.088471   -3.590776         NaN  -0.684038  -0.458034   \n",
       "1998-01-07      NaN  1.002099   -4.732173         NaN   0.921365   1.031419   \n",
       "1998-01-08      NaN -2.074267   -0.790227         NaN   0.602449   0.474420   \n",
       "\n",
       "            C_2_H_ace  C_2_H_acn  C_2_H_act  C_2_H_adbe   ...       Vol_xl  \\\n",
       "1998-01-02   0.029617        NaN  -0.347198    0.457108   ...    -0.676802   \n",
       "1998-01-05   0.200087        NaN   0.748953    0.140341   ...    -0.621025   \n",
       "1998-01-06   0.826198        NaN  -0.839167   -0.288677   ...    -0.634169   \n",
       "1998-01-07  -0.221831        NaN  -0.297508    0.080277   ...    -0.616242   \n",
       "1998-01-08   0.197524        NaN   0.886626    0.327069   ...    -0.655003   \n",
       "\n",
       "            Vol_xlnx   Vol_xom  Vol_xray   Vol_xrx  Vol_xyl  Vol_yhoo  \\\n",
       "1998-01-02  1.391497 -1.045626 -1.147952 -0.817355      NaN -0.368713   \n",
       "1998-01-05  1.019607 -0.615370 -0.556684 -0.757660      NaN  0.064841   \n",
       "1998-01-06  0.020195 -0.527923 -1.131583 -0.629732      NaN  0.150071   \n",
       "1998-01-07  1.023705 -0.134130 -0.329006 -0.504232      NaN -0.463651   \n",
       "1998-01-08  0.645285 -0.907375 -1.066107 -0.560549      NaN -0.157777   \n",
       "\n",
       "             Vol_yum  Vol_zion  Vol_zmh  \n",
       "1998-01-02 -0.678763 -0.724482      NaN  \n",
       "1998-01-05  0.980283 -0.735275      NaN  \n",
       "1998-01-06  1.697887 -0.683202      NaN  \n",
       "1998-01-07  0.515268 -0.635858      NaN  \n",
       "1998-01-08  0.235907 -0.605092      NaN  \n",
       "\n",
       "[5 rows x 3500 columns]"
      ]
     },
     "execution_count": 25,
     "metadata": {
      "tags": []
     },
     "output_type": "execute_result"
    }
   ],
   "source": [
    "p.head()"
   ]
  },
  {
   "cell_type": "code",
   "execution_count": null,
   "metadata": {
    "colab": {
     "autoexec": {
      "startup": false,
      "wait_interval": 0
     }
    },
    "colab_type": "code",
    "id": "o9S7C5WiLpH8"
   },
   "outputs": [],
   "source": [
    "cleanp = p.dropna(1)"
   ]
  },
  {
   "cell_type": "code",
   "execution_count": 27,
   "metadata": {
    "colab": {
     "autoexec": {
      "startup": false,
      "wait_interval": 0
     },
     "base_uri": "https://localhost:8080/",
     "height": 338,
     "output_extras": [
      {
       "item_id": 1
      }
     ]
    },
    "colab_type": "code",
    "executionInfo": {
     "elapsed": 262,
     "status": "ok",
     "timestamp": 1522511609890,
     "user": {
      "displayName": "Shivankur Kapoor",
      "photoUrl": "//lh6.googleusercontent.com/-PynCFKt_Vaw/AAAAAAAAAAI/AAAAAAAAAB0/gMErFHjIJjw/s50-c-k-no/photo.jpg",
      "userId": "105072539454715681442"
     },
     "user_tz": 240
    },
    "id": "VA1BCMHcLpIK",
    "outputId": "29aebb4d-e1d4-4ca5-b4a1-cc28b39987d5"
   },
   "outputs": [
    {
     "data": {
      "text/html": [
       "<div>\n",
       "<style scoped>\n",
       "    .dataframe tbody tr th:only-of-type {\n",
       "        vertical-align: middle;\n",
       "    }\n",
       "\n",
       "    .dataframe tbody tr th {\n",
       "        vertical-align: top;\n",
       "    }\n",
       "\n",
       "    .dataframe thead th {\n",
       "        text-align: right;\n",
       "    }\n",
       "</style>\n",
       "<table border=\"1\" class=\"dataframe\">\n",
       "  <thead>\n",
       "    <tr style=\"text-align: right;\">\n",
       "      <th></th>\n",
       "      <th>C_2_H_aa</th>\n",
       "      <th>C_2_H_aapl</th>\n",
       "      <th>C_2_H_abc</th>\n",
       "      <th>C_2_H_abt</th>\n",
       "      <th>C_2_H_ace</th>\n",
       "      <th>C_2_H_act</th>\n",
       "      <th>C_2_H_adbe</th>\n",
       "      <th>C_2_H_adi</th>\n",
       "      <th>C_2_H_adm</th>\n",
       "      <th>C_2_H_adp</th>\n",
       "      <th>...</th>\n",
       "      <th>Vol_x</th>\n",
       "      <th>Vol_xel</th>\n",
       "      <th>Vol_xl</th>\n",
       "      <th>Vol_xlnx</th>\n",
       "      <th>Vol_xom</th>\n",
       "      <th>Vol_xray</th>\n",
       "      <th>Vol_xrx</th>\n",
       "      <th>Vol_yhoo</th>\n",
       "      <th>Vol_yum</th>\n",
       "      <th>Vol_zion</th>\n",
       "    </tr>\n",
       "  </thead>\n",
       "  <tbody>\n",
       "    <tr>\n",
       "      <th>1998-01-02</th>\n",
       "      <td>0.670259</td>\n",
       "      <td>1.019696</td>\n",
       "      <td>0.296978</td>\n",
       "      <td>1.031419</td>\n",
       "      <td>0.029617</td>\n",
       "      <td>-0.347198</td>\n",
       "      <td>0.457108</td>\n",
       "      <td>0.733753</td>\n",
       "      <td>0.133289</td>\n",
       "      <td>-1.288187</td>\n",
       "      <td>...</td>\n",
       "      <td>-0.882840</td>\n",
       "      <td>-1.039835</td>\n",
       "      <td>-0.676802</td>\n",
       "      <td>1.391497</td>\n",
       "      <td>-1.045626</td>\n",
       "      <td>-1.147952</td>\n",
       "      <td>-0.817355</td>\n",
       "      <td>-0.368713</td>\n",
       "      <td>-0.678763</td>\n",
       "      <td>-0.724482</td>\n",
       "    </tr>\n",
       "    <tr>\n",
       "      <th>1998-01-05</th>\n",
       "      <td>0.462520</td>\n",
       "      <td>-0.984079</td>\n",
       "      <td>-0.103694</td>\n",
       "      <td>0.208524</td>\n",
       "      <td>0.200087</td>\n",
       "      <td>0.748953</td>\n",
       "      <td>0.140341</td>\n",
       "      <td>-0.610160</td>\n",
       "      <td>-0.073189</td>\n",
       "      <td>0.786681</td>\n",
       "      <td>...</td>\n",
       "      <td>-0.899201</td>\n",
       "      <td>-0.706551</td>\n",
       "      <td>-0.621025</td>\n",
       "      <td>1.019607</td>\n",
       "      <td>-0.615370</td>\n",
       "      <td>-0.556684</td>\n",
       "      <td>-0.757660</td>\n",
       "      <td>0.064841</td>\n",
       "      <td>0.980283</td>\n",
       "      <td>-0.735275</td>\n",
       "    </tr>\n",
       "    <tr>\n",
       "      <th>1998-01-06</th>\n",
       "      <td>-0.088471</td>\n",
       "      <td>-3.590776</td>\n",
       "      <td>-0.684038</td>\n",
       "      <td>-0.458034</td>\n",
       "      <td>0.826198</td>\n",
       "      <td>-0.839167</td>\n",
       "      <td>-0.288677</td>\n",
       "      <td>-0.793247</td>\n",
       "      <td>-0.337094</td>\n",
       "      <td>0.803780</td>\n",
       "      <td>...</td>\n",
       "      <td>-0.796421</td>\n",
       "      <td>-1.025938</td>\n",
       "      <td>-0.634169</td>\n",
       "      <td>0.020195</td>\n",
       "      <td>-0.527923</td>\n",
       "      <td>-1.131583</td>\n",
       "      <td>-0.629732</td>\n",
       "      <td>0.150071</td>\n",
       "      <td>1.697887</td>\n",
       "      <td>-0.683202</td>\n",
       "    </tr>\n",
       "    <tr>\n",
       "      <th>1998-01-07</th>\n",
       "      <td>1.002099</td>\n",
       "      <td>-4.732173</td>\n",
       "      <td>0.921365</td>\n",
       "      <td>1.031419</td>\n",
       "      <td>-0.221831</td>\n",
       "      <td>-0.297508</td>\n",
       "      <td>0.080277</td>\n",
       "      <td>-1.239360</td>\n",
       "      <td>0.999108</td>\n",
       "      <td>-0.148371</td>\n",
       "      <td>...</td>\n",
       "      <td>-0.787356</td>\n",
       "      <td>-0.910382</td>\n",
       "      <td>-0.616242</td>\n",
       "      <td>1.023705</td>\n",
       "      <td>-0.134130</td>\n",
       "      <td>-0.329006</td>\n",
       "      <td>-0.504232</td>\n",
       "      <td>-0.463651</td>\n",
       "      <td>0.515268</td>\n",
       "      <td>-0.635858</td>\n",
       "    </tr>\n",
       "    <tr>\n",
       "      <th>1998-01-08</th>\n",
       "      <td>-2.074267</td>\n",
       "      <td>-0.790227</td>\n",
       "      <td>0.602449</td>\n",
       "      <td>0.474420</td>\n",
       "      <td>0.197524</td>\n",
       "      <td>0.886626</td>\n",
       "      <td>0.327069</td>\n",
       "      <td>0.604855</td>\n",
       "      <td>-1.302776</td>\n",
       "      <td>0.364316</td>\n",
       "      <td>...</td>\n",
       "      <td>-0.857893</td>\n",
       "      <td>-0.867660</td>\n",
       "      <td>-0.655003</td>\n",
       "      <td>0.645285</td>\n",
       "      <td>-0.907375</td>\n",
       "      <td>-1.066107</td>\n",
       "      <td>-0.560549</td>\n",
       "      <td>-0.157777</td>\n",
       "      <td>0.235907</td>\n",
       "      <td>-0.605092</td>\n",
       "    </tr>\n",
       "  </tbody>\n",
       "</table>\n",
       "<p>5 rows × 2716 columns</p>\n",
       "</div>"
      ],
      "text/plain": [
       "            C_2_H_aa  C_2_H_aapl  C_2_H_abc  C_2_H_abt  C_2_H_ace  C_2_H_act  \\\n",
       "1998-01-02  0.670259    1.019696   0.296978   1.031419   0.029617  -0.347198   \n",
       "1998-01-05  0.462520   -0.984079  -0.103694   0.208524   0.200087   0.748953   \n",
       "1998-01-06 -0.088471   -3.590776  -0.684038  -0.458034   0.826198  -0.839167   \n",
       "1998-01-07  1.002099   -4.732173   0.921365   1.031419  -0.221831  -0.297508   \n",
       "1998-01-08 -2.074267   -0.790227   0.602449   0.474420   0.197524   0.886626   \n",
       "\n",
       "            C_2_H_adbe  C_2_H_adi  C_2_H_adm  C_2_H_adp    ...        Vol_x  \\\n",
       "1998-01-02    0.457108   0.733753   0.133289  -1.288187    ...    -0.882840   \n",
       "1998-01-05    0.140341  -0.610160  -0.073189   0.786681    ...    -0.899201   \n",
       "1998-01-06   -0.288677  -0.793247  -0.337094   0.803780    ...    -0.796421   \n",
       "1998-01-07    0.080277  -1.239360   0.999108  -0.148371    ...    -0.787356   \n",
       "1998-01-08    0.327069   0.604855  -1.302776   0.364316    ...    -0.857893   \n",
       "\n",
       "             Vol_xel    Vol_xl  Vol_xlnx   Vol_xom  Vol_xray   Vol_xrx  \\\n",
       "1998-01-02 -1.039835 -0.676802  1.391497 -1.045626 -1.147952 -0.817355   \n",
       "1998-01-05 -0.706551 -0.621025  1.019607 -0.615370 -0.556684 -0.757660   \n",
       "1998-01-06 -1.025938 -0.634169  0.020195 -0.527923 -1.131583 -0.629732   \n",
       "1998-01-07 -0.910382 -0.616242  1.023705 -0.134130 -0.329006 -0.504232   \n",
       "1998-01-08 -0.867660 -0.655003  0.645285 -0.907375 -1.066107 -0.560549   \n",
       "\n",
       "            Vol_yhoo   Vol_yum  Vol_zion  \n",
       "1998-01-02 -0.368713 -0.678763 -0.724482  \n",
       "1998-01-05  0.064841  0.980283 -0.735275  \n",
       "1998-01-06  0.150071  1.697887 -0.683202  \n",
       "1998-01-07 -0.463651  0.515268 -0.635858  \n",
       "1998-01-08 -0.157777  0.235907 -0.605092  \n",
       "\n",
       "[5 rows x 2716 columns]"
      ]
     },
     "execution_count": 27,
     "metadata": {
      "tags": []
     },
     "output_type": "execute_result"
    }
   ],
   "source": [
    "cleanp.head()"
   ]
  },
  {
   "cell_type": "code",
   "execution_count": null,
   "metadata": {
    "colab": {
     "autoexec": {
      "startup": false,
      "wait_interval": 0
     }
    },
    "colab_type": "code",
    "id": "aXKUXkMcLpIc"
   },
   "outputs": [],
   "source": [
    "target_cols = list(filter(lambda x : 'Ct_2_Ct1' in x, cleanp.columns.values)) \n",
    "input_cols = list(filter(lambda x : 'Ct_2_Ct1' not in x, cleanp.columns.values)) "
   ]
  },
  {
   "cell_type": "code",
   "execution_count": null,
   "metadata": {
    "colab": {
     "autoexec": {
      "startup": false,
      "wait_interval": 0
     }
    },
    "colab_type": "code",
    "id": "pikAhyM3LpIi"
   },
   "outputs": [],
   "source": [
    "inputdf = cleanp[input_cols][:3900]\n",
    "targetdf = cleanp[target_cols][:3900]"
   ]
  },
  {
   "cell_type": "code",
   "execution_count": 30,
   "metadata": {
    "colab": {
     "autoexec": {
      "startup": false,
      "wait_interval": 0
     },
     "base_uri": "https://localhost:8080/",
     "height": 338,
     "output_extras": [
      {
       "item_id": 1
      }
     ]
    },
    "colab_type": "code",
    "executionInfo": {
     "elapsed": 446,
     "status": "ok",
     "timestamp": 1522511614329,
     "user": {
      "displayName": "Shivankur Kapoor",
      "photoUrl": "//lh6.googleusercontent.com/-PynCFKt_Vaw/AAAAAAAAAAI/AAAAAAAAAB0/gMErFHjIJjw/s50-c-k-no/photo.jpg",
      "userId": "105072539454715681442"
     },
     "user_tz": 240
    },
    "id": "658xK4Sx3zt7",
    "outputId": "41d1262c-2db3-41a1-994e-618a73331c6b"
   },
   "outputs": [
    {
     "data": {
      "text/html": [
       "<div>\n",
       "<style scoped>\n",
       "    .dataframe tbody tr th:only-of-type {\n",
       "        vertical-align: middle;\n",
       "    }\n",
       "\n",
       "    .dataframe tbody tr th {\n",
       "        vertical-align: top;\n",
       "    }\n",
       "\n",
       "    .dataframe thead th {\n",
       "        text-align: right;\n",
       "    }\n",
       "</style>\n",
       "<table border=\"1\" class=\"dataframe\">\n",
       "  <thead>\n",
       "    <tr style=\"text-align: right;\">\n",
       "      <th></th>\n",
       "      <th>C_2_H_aa</th>\n",
       "      <th>C_2_H_aapl</th>\n",
       "      <th>C_2_H_abc</th>\n",
       "      <th>C_2_H_abt</th>\n",
       "      <th>C_2_H_ace</th>\n",
       "      <th>C_2_H_act</th>\n",
       "      <th>C_2_H_adbe</th>\n",
       "      <th>C_2_H_adi</th>\n",
       "      <th>C_2_H_adm</th>\n",
       "      <th>C_2_H_adp</th>\n",
       "      <th>...</th>\n",
       "      <th>Vol_x</th>\n",
       "      <th>Vol_xel</th>\n",
       "      <th>Vol_xl</th>\n",
       "      <th>Vol_xlnx</th>\n",
       "      <th>Vol_xom</th>\n",
       "      <th>Vol_xray</th>\n",
       "      <th>Vol_xrx</th>\n",
       "      <th>Vol_yhoo</th>\n",
       "      <th>Vol_yum</th>\n",
       "      <th>Vol_zion</th>\n",
       "    </tr>\n",
       "  </thead>\n",
       "  <tbody>\n",
       "    <tr>\n",
       "      <th>1998-01-02</th>\n",
       "      <td>0.670259</td>\n",
       "      <td>1.019696</td>\n",
       "      <td>0.296978</td>\n",
       "      <td>1.031419</td>\n",
       "      <td>0.029617</td>\n",
       "      <td>-0.347198</td>\n",
       "      <td>0.457108</td>\n",
       "      <td>0.733753</td>\n",
       "      <td>0.133289</td>\n",
       "      <td>-1.288187</td>\n",
       "      <td>...</td>\n",
       "      <td>-0.882840</td>\n",
       "      <td>-1.039835</td>\n",
       "      <td>-0.676802</td>\n",
       "      <td>1.391497</td>\n",
       "      <td>-1.045626</td>\n",
       "      <td>-1.147952</td>\n",
       "      <td>-0.817355</td>\n",
       "      <td>-0.368713</td>\n",
       "      <td>-0.678763</td>\n",
       "      <td>-0.724482</td>\n",
       "    </tr>\n",
       "    <tr>\n",
       "      <th>1998-01-05</th>\n",
       "      <td>0.462520</td>\n",
       "      <td>-0.984079</td>\n",
       "      <td>-0.103694</td>\n",
       "      <td>0.208524</td>\n",
       "      <td>0.200087</td>\n",
       "      <td>0.748953</td>\n",
       "      <td>0.140341</td>\n",
       "      <td>-0.610160</td>\n",
       "      <td>-0.073189</td>\n",
       "      <td>0.786681</td>\n",
       "      <td>...</td>\n",
       "      <td>-0.899201</td>\n",
       "      <td>-0.706551</td>\n",
       "      <td>-0.621025</td>\n",
       "      <td>1.019607</td>\n",
       "      <td>-0.615370</td>\n",
       "      <td>-0.556684</td>\n",
       "      <td>-0.757660</td>\n",
       "      <td>0.064841</td>\n",
       "      <td>0.980283</td>\n",
       "      <td>-0.735275</td>\n",
       "    </tr>\n",
       "    <tr>\n",
       "      <th>1998-01-06</th>\n",
       "      <td>-0.088471</td>\n",
       "      <td>-3.590776</td>\n",
       "      <td>-0.684038</td>\n",
       "      <td>-0.458034</td>\n",
       "      <td>0.826198</td>\n",
       "      <td>-0.839167</td>\n",
       "      <td>-0.288677</td>\n",
       "      <td>-0.793247</td>\n",
       "      <td>-0.337094</td>\n",
       "      <td>0.803780</td>\n",
       "      <td>...</td>\n",
       "      <td>-0.796421</td>\n",
       "      <td>-1.025938</td>\n",
       "      <td>-0.634169</td>\n",
       "      <td>0.020195</td>\n",
       "      <td>-0.527923</td>\n",
       "      <td>-1.131583</td>\n",
       "      <td>-0.629732</td>\n",
       "      <td>0.150071</td>\n",
       "      <td>1.697887</td>\n",
       "      <td>-0.683202</td>\n",
       "    </tr>\n",
       "    <tr>\n",
       "      <th>1998-01-07</th>\n",
       "      <td>1.002099</td>\n",
       "      <td>-4.732173</td>\n",
       "      <td>0.921365</td>\n",
       "      <td>1.031419</td>\n",
       "      <td>-0.221831</td>\n",
       "      <td>-0.297508</td>\n",
       "      <td>0.080277</td>\n",
       "      <td>-1.239360</td>\n",
       "      <td>0.999108</td>\n",
       "      <td>-0.148371</td>\n",
       "      <td>...</td>\n",
       "      <td>-0.787356</td>\n",
       "      <td>-0.910382</td>\n",
       "      <td>-0.616242</td>\n",
       "      <td>1.023705</td>\n",
       "      <td>-0.134130</td>\n",
       "      <td>-0.329006</td>\n",
       "      <td>-0.504232</td>\n",
       "      <td>-0.463651</td>\n",
       "      <td>0.515268</td>\n",
       "      <td>-0.635858</td>\n",
       "    </tr>\n",
       "    <tr>\n",
       "      <th>1998-01-08</th>\n",
       "      <td>-2.074267</td>\n",
       "      <td>-0.790227</td>\n",
       "      <td>0.602449</td>\n",
       "      <td>0.474420</td>\n",
       "      <td>0.197524</td>\n",
       "      <td>0.886626</td>\n",
       "      <td>0.327069</td>\n",
       "      <td>0.604855</td>\n",
       "      <td>-1.302776</td>\n",
       "      <td>0.364316</td>\n",
       "      <td>...</td>\n",
       "      <td>-0.857893</td>\n",
       "      <td>-0.867660</td>\n",
       "      <td>-0.655003</td>\n",
       "      <td>0.645285</td>\n",
       "      <td>-0.907375</td>\n",
       "      <td>-1.066107</td>\n",
       "      <td>-0.560549</td>\n",
       "      <td>-0.157777</td>\n",
       "      <td>0.235907</td>\n",
       "      <td>-0.605092</td>\n",
       "    </tr>\n",
       "  </tbody>\n",
       "</table>\n",
       "<p>5 rows × 2328 columns</p>\n",
       "</div>"
      ],
      "text/plain": [
       "            C_2_H_aa  C_2_H_aapl  C_2_H_abc  C_2_H_abt  C_2_H_ace  C_2_H_act  \\\n",
       "1998-01-02  0.670259    1.019696   0.296978   1.031419   0.029617  -0.347198   \n",
       "1998-01-05  0.462520   -0.984079  -0.103694   0.208524   0.200087   0.748953   \n",
       "1998-01-06 -0.088471   -3.590776  -0.684038  -0.458034   0.826198  -0.839167   \n",
       "1998-01-07  1.002099   -4.732173   0.921365   1.031419  -0.221831  -0.297508   \n",
       "1998-01-08 -2.074267   -0.790227   0.602449   0.474420   0.197524   0.886626   \n",
       "\n",
       "            C_2_H_adbe  C_2_H_adi  C_2_H_adm  C_2_H_adp    ...        Vol_x  \\\n",
       "1998-01-02    0.457108   0.733753   0.133289  -1.288187    ...    -0.882840   \n",
       "1998-01-05    0.140341  -0.610160  -0.073189   0.786681    ...    -0.899201   \n",
       "1998-01-06   -0.288677  -0.793247  -0.337094   0.803780    ...    -0.796421   \n",
       "1998-01-07    0.080277  -1.239360   0.999108  -0.148371    ...    -0.787356   \n",
       "1998-01-08    0.327069   0.604855  -1.302776   0.364316    ...    -0.857893   \n",
       "\n",
       "             Vol_xel    Vol_xl  Vol_xlnx   Vol_xom  Vol_xray   Vol_xrx  \\\n",
       "1998-01-02 -1.039835 -0.676802  1.391497 -1.045626 -1.147952 -0.817355   \n",
       "1998-01-05 -0.706551 -0.621025  1.019607 -0.615370 -0.556684 -0.757660   \n",
       "1998-01-06 -1.025938 -0.634169  0.020195 -0.527923 -1.131583 -0.629732   \n",
       "1998-01-07 -0.910382 -0.616242  1.023705 -0.134130 -0.329006 -0.504232   \n",
       "1998-01-08 -0.867660 -0.655003  0.645285 -0.907375 -1.066107 -0.560549   \n",
       "\n",
       "            Vol_yhoo   Vol_yum  Vol_zion  \n",
       "1998-01-02 -0.368713 -0.678763 -0.724482  \n",
       "1998-01-05  0.064841  0.980283 -0.735275  \n",
       "1998-01-06  0.150071  1.697887 -0.683202  \n",
       "1998-01-07 -0.463651  0.515268 -0.635858  \n",
       "1998-01-08 -0.157777  0.235907 -0.605092  \n",
       "\n",
       "[5 rows x 2328 columns]"
      ]
     },
     "execution_count": 30,
     "metadata": {
      "tags": []
     },
     "output_type": "execute_result"
    }
   ],
   "source": [
    "inputdf.head()"
   ]
  },
  {
   "cell_type": "code",
   "execution_count": null,
   "metadata": {
    "colab": {
     "autoexec": {
      "startup": false,
      "wait_interval": 0
     }
    },
    "colab_type": "code",
    "id": "lgKGaMSXLpIm"
   },
   "outputs": [],
   "source": [
    "corrs = targetdf.corr()"
   ]
  },
  {
   "cell_type": "code",
   "execution_count": 32,
   "metadata": {
    "colab": {
     "autoexec": {
      "startup": false,
      "wait_interval": 0
     },
     "base_uri": "https://localhost:8080/",
     "height": 253,
     "output_extras": [
      {
       "item_id": 1
      }
     ]
    },
    "colab_type": "code",
    "executionInfo": {
     "elapsed": 325,
     "status": "ok",
     "timestamp": 1522511617072,
     "user": {
      "displayName": "Shivankur Kapoor",
      "photoUrl": "//lh6.googleusercontent.com/-PynCFKt_Vaw/AAAAAAAAAAI/AAAAAAAAAB0/gMErFHjIJjw/s50-c-k-no/photo.jpg",
      "userId": "105072539454715681442"
     },
     "user_tz": 240
    },
    "id": "llLjh15oLpIq",
    "outputId": "37e28720-3e30-447e-8dda-1a8dd9dc2cec"
   },
   "outputs": [
    {
     "data": {
      "text/html": [
       "<div>\n",
       "<style scoped>\n",
       "    .dataframe tbody tr th:only-of-type {\n",
       "        vertical-align: middle;\n",
       "    }\n",
       "\n",
       "    .dataframe tbody tr th {\n",
       "        vertical-align: top;\n",
       "    }\n",
       "\n",
       "    .dataframe thead th {\n",
       "        text-align: right;\n",
       "    }\n",
       "</style>\n",
       "<table border=\"1\" class=\"dataframe\">\n",
       "  <thead>\n",
       "    <tr style=\"text-align: right;\">\n",
       "      <th></th>\n",
       "      <th>Ct_2_Ct1_aa</th>\n",
       "      <th>Ct_2_Ct1_aapl</th>\n",
       "      <th>Ct_2_Ct1_abc</th>\n",
       "      <th>Ct_2_Ct1_abt</th>\n",
       "      <th>Ct_2_Ct1_ace</th>\n",
       "      <th>Ct_2_Ct1_act</th>\n",
       "      <th>Ct_2_Ct1_adbe</th>\n",
       "      <th>Ct_2_Ct1_adi</th>\n",
       "      <th>Ct_2_Ct1_adm</th>\n",
       "      <th>Ct_2_Ct1_adp</th>\n",
       "      <th>...</th>\n",
       "      <th>Ct_2_Ct1_x</th>\n",
       "      <th>Ct_2_Ct1_xel</th>\n",
       "      <th>Ct_2_Ct1_xl</th>\n",
       "      <th>Ct_2_Ct1_xlnx</th>\n",
       "      <th>Ct_2_Ct1_xom</th>\n",
       "      <th>Ct_2_Ct1_xray</th>\n",
       "      <th>Ct_2_Ct1_xrx</th>\n",
       "      <th>Ct_2_Ct1_yhoo</th>\n",
       "      <th>Ct_2_Ct1_yum</th>\n",
       "      <th>Ct_2_Ct1_zion</th>\n",
       "    </tr>\n",
       "  </thead>\n",
       "  <tbody>\n",
       "    <tr>\n",
       "      <th>Ct_2_Ct1_aa</th>\n",
       "      <td>1.000000</td>\n",
       "      <td>0.245600</td>\n",
       "      <td>0.202973</td>\n",
       "      <td>0.233644</td>\n",
       "      <td>0.363926</td>\n",
       "      <td>0.211296</td>\n",
       "      <td>0.324047</td>\n",
       "      <td>0.309654</td>\n",
       "      <td>0.396999</td>\n",
       "      <td>0.379327</td>\n",
       "      <td>...</td>\n",
       "      <td>0.653575</td>\n",
       "      <td>0.223309</td>\n",
       "      <td>0.368614</td>\n",
       "      <td>0.302733</td>\n",
       "      <td>0.491976</td>\n",
       "      <td>0.345616</td>\n",
       "      <td>0.328904</td>\n",
       "      <td>0.279069</td>\n",
       "      <td>0.317698</td>\n",
       "      <td>0.366920</td>\n",
       "    </tr>\n",
       "    <tr>\n",
       "      <th>Ct_2_Ct1_aapl</th>\n",
       "      <td>0.245600</td>\n",
       "      <td>1.000000</td>\n",
       "      <td>0.124212</td>\n",
       "      <td>0.136384</td>\n",
       "      <td>0.214437</td>\n",
       "      <td>0.138923</td>\n",
       "      <td>0.349886</td>\n",
       "      <td>0.391809</td>\n",
       "      <td>0.165559</td>\n",
       "      <td>0.276712</td>\n",
       "      <td>...</td>\n",
       "      <td>0.258128</td>\n",
       "      <td>0.111799</td>\n",
       "      <td>0.200172</td>\n",
       "      <td>0.411488</td>\n",
       "      <td>0.219017</td>\n",
       "      <td>0.194437</td>\n",
       "      <td>0.265591</td>\n",
       "      <td>0.343881</td>\n",
       "      <td>0.177725</td>\n",
       "      <td>0.209607</td>\n",
       "    </tr>\n",
       "    <tr>\n",
       "      <th>Ct_2_Ct1_abc</th>\n",
       "      <td>0.202973</td>\n",
       "      <td>0.124212</td>\n",
       "      <td>1.000000</td>\n",
       "      <td>0.254219</td>\n",
       "      <td>0.215624</td>\n",
       "      <td>0.242599</td>\n",
       "      <td>0.191242</td>\n",
       "      <td>0.146839</td>\n",
       "      <td>0.186043</td>\n",
       "      <td>0.219565</td>\n",
       "      <td>...</td>\n",
       "      <td>0.210528</td>\n",
       "      <td>0.148484</td>\n",
       "      <td>0.186837</td>\n",
       "      <td>0.129390</td>\n",
       "      <td>0.242642</td>\n",
       "      <td>0.231236</td>\n",
       "      <td>0.169026</td>\n",
       "      <td>0.129902</td>\n",
       "      <td>0.246716</td>\n",
       "      <td>0.173018</td>\n",
       "    </tr>\n",
       "    <tr>\n",
       "      <th>Ct_2_Ct1_abt</th>\n",
       "      <td>0.233644</td>\n",
       "      <td>0.136384</td>\n",
       "      <td>0.254219</td>\n",
       "      <td>1.000000</td>\n",
       "      <td>0.273679</td>\n",
       "      <td>0.258051</td>\n",
       "      <td>0.178189</td>\n",
       "      <td>0.151362</td>\n",
       "      <td>0.228972</td>\n",
       "      <td>0.322309</td>\n",
       "      <td>...</td>\n",
       "      <td>0.206951</td>\n",
       "      <td>0.247736</td>\n",
       "      <td>0.246768</td>\n",
       "      <td>0.158687</td>\n",
       "      <td>0.333363</td>\n",
       "      <td>0.287556</td>\n",
       "      <td>0.168740</td>\n",
       "      <td>0.156215</td>\n",
       "      <td>0.269806</td>\n",
       "      <td>0.209651</td>\n",
       "    </tr>\n",
       "    <tr>\n",
       "      <th>Ct_2_Ct1_ace</th>\n",
       "      <td>0.363926</td>\n",
       "      <td>0.214437</td>\n",
       "      <td>0.215624</td>\n",
       "      <td>0.273679</td>\n",
       "      <td>1.000000</td>\n",
       "      <td>0.241893</td>\n",
       "      <td>0.293902</td>\n",
       "      <td>0.256439</td>\n",
       "      <td>0.285578</td>\n",
       "      <td>0.374827</td>\n",
       "      <td>...</td>\n",
       "      <td>0.320691</td>\n",
       "      <td>0.236513</td>\n",
       "      <td>0.513597</td>\n",
       "      <td>0.263184</td>\n",
       "      <td>0.350868</td>\n",
       "      <td>0.312777</td>\n",
       "      <td>0.255714</td>\n",
       "      <td>0.229052</td>\n",
       "      <td>0.289281</td>\n",
       "      <td>0.382229</td>\n",
       "    </tr>\n",
       "  </tbody>\n",
       "</table>\n",
       "<p>5 rows × 388 columns</p>\n",
       "</div>"
      ],
      "text/plain": [
       "               Ct_2_Ct1_aa  Ct_2_Ct1_aapl  Ct_2_Ct1_abc  Ct_2_Ct1_abt  \\\n",
       "Ct_2_Ct1_aa       1.000000       0.245600      0.202973      0.233644   \n",
       "Ct_2_Ct1_aapl     0.245600       1.000000      0.124212      0.136384   \n",
       "Ct_2_Ct1_abc      0.202973       0.124212      1.000000      0.254219   \n",
       "Ct_2_Ct1_abt      0.233644       0.136384      0.254219      1.000000   \n",
       "Ct_2_Ct1_ace      0.363926       0.214437      0.215624      0.273679   \n",
       "\n",
       "               Ct_2_Ct1_ace  Ct_2_Ct1_act  Ct_2_Ct1_adbe  Ct_2_Ct1_adi  \\\n",
       "Ct_2_Ct1_aa        0.363926      0.211296       0.324047      0.309654   \n",
       "Ct_2_Ct1_aapl      0.214437      0.138923       0.349886      0.391809   \n",
       "Ct_2_Ct1_abc       0.215624      0.242599       0.191242      0.146839   \n",
       "Ct_2_Ct1_abt       0.273679      0.258051       0.178189      0.151362   \n",
       "Ct_2_Ct1_ace       1.000000      0.241893       0.293902      0.256439   \n",
       "\n",
       "               Ct_2_Ct1_adm  Ct_2_Ct1_adp      ...        Ct_2_Ct1_x  \\\n",
       "Ct_2_Ct1_aa        0.396999      0.379327      ...          0.653575   \n",
       "Ct_2_Ct1_aapl      0.165559      0.276712      ...          0.258128   \n",
       "Ct_2_Ct1_abc       0.186043      0.219565      ...          0.210528   \n",
       "Ct_2_Ct1_abt       0.228972      0.322309      ...          0.206951   \n",
       "Ct_2_Ct1_ace       0.285578      0.374827      ...          0.320691   \n",
       "\n",
       "               Ct_2_Ct1_xel  Ct_2_Ct1_xl  Ct_2_Ct1_xlnx  Ct_2_Ct1_xom  \\\n",
       "Ct_2_Ct1_aa        0.223309     0.368614       0.302733      0.491976   \n",
       "Ct_2_Ct1_aapl      0.111799     0.200172       0.411488      0.219017   \n",
       "Ct_2_Ct1_abc       0.148484     0.186837       0.129390      0.242642   \n",
       "Ct_2_Ct1_abt       0.247736     0.246768       0.158687      0.333363   \n",
       "Ct_2_Ct1_ace       0.236513     0.513597       0.263184      0.350868   \n",
       "\n",
       "               Ct_2_Ct1_xray  Ct_2_Ct1_xrx  Ct_2_Ct1_yhoo  Ct_2_Ct1_yum  \\\n",
       "Ct_2_Ct1_aa         0.345616      0.328904       0.279069      0.317698   \n",
       "Ct_2_Ct1_aapl       0.194437      0.265591       0.343881      0.177725   \n",
       "Ct_2_Ct1_abc        0.231236      0.169026       0.129902      0.246716   \n",
       "Ct_2_Ct1_abt        0.287556      0.168740       0.156215      0.269806   \n",
       "Ct_2_Ct1_ace        0.312777      0.255714       0.229052      0.289281   \n",
       "\n",
       "               Ct_2_Ct1_zion  \n",
       "Ct_2_Ct1_aa         0.366920  \n",
       "Ct_2_Ct1_aapl       0.209607  \n",
       "Ct_2_Ct1_abc        0.173018  \n",
       "Ct_2_Ct1_abt        0.209651  \n",
       "Ct_2_Ct1_ace        0.382229  \n",
       "\n",
       "[5 rows x 388 columns]"
      ]
     },
     "execution_count": 32,
     "metadata": {
      "tags": []
     },
     "output_type": "execute_result"
    }
   ],
   "source": [
    "corrs.head()"
   ]
  },
  {
   "cell_type": "code",
   "execution_count": null,
   "metadata": {
    "colab": {
     "autoexec": {
      "startup": false,
      "wait_interval": 0
     }
    },
    "colab_type": "code",
    "id": "A7eUQ1raLpI2"
   },
   "outputs": [],
   "source": [
    "num_stocks = len(targetdf.columns)"
   ]
  },
  {
   "cell_type": "code",
   "execution_count": 34,
   "metadata": {
    "colab": {
     "autoexec": {
      "startup": false,
      "wait_interval": 0
     },
     "base_uri": "https://localhost:8080/",
     "height": 338,
     "output_extras": [
      {
       "item_id": 1
      }
     ]
    },
    "colab_type": "code",
    "executionInfo": {
     "elapsed": 346,
     "status": "ok",
     "timestamp": 1522511618704,
     "user": {
      "displayName": "Shivankur Kapoor",
      "photoUrl": "//lh6.googleusercontent.com/-PynCFKt_Vaw/AAAAAAAAAAI/AAAAAAAAAB0/gMErFHjIJjw/s50-c-k-no/photo.jpg",
      "userId": "105072539454715681442"
     },
     "user_tz": 240
    },
    "id": "SIVRo-8MLpI9",
    "outputId": "1e4a40d0-ddc2-465e-932d-98c30623b6be"
   },
   "outputs": [
    {
     "data": {
      "text/html": [
       "<div>\n",
       "<style scoped>\n",
       "    .dataframe tbody tr th:only-of-type {\n",
       "        vertical-align: middle;\n",
       "    }\n",
       "\n",
       "    .dataframe tbody tr th {\n",
       "        vertical-align: top;\n",
       "    }\n",
       "\n",
       "    .dataframe thead th {\n",
       "        text-align: right;\n",
       "    }\n",
       "</style>\n",
       "<table border=\"1\" class=\"dataframe\">\n",
       "  <thead>\n",
       "    <tr style=\"text-align: right;\">\n",
       "      <th></th>\n",
       "      <th>Ct_2_Ct1_aa</th>\n",
       "      <th>Ct_2_Ct1_aapl</th>\n",
       "      <th>Ct_2_Ct1_abc</th>\n",
       "      <th>Ct_2_Ct1_abt</th>\n",
       "      <th>Ct_2_Ct1_ace</th>\n",
       "      <th>Ct_2_Ct1_act</th>\n",
       "      <th>Ct_2_Ct1_adbe</th>\n",
       "      <th>Ct_2_Ct1_adi</th>\n",
       "      <th>Ct_2_Ct1_adm</th>\n",
       "      <th>Ct_2_Ct1_adp</th>\n",
       "      <th>...</th>\n",
       "      <th>Ct_2_Ct1_x</th>\n",
       "      <th>Ct_2_Ct1_xel</th>\n",
       "      <th>Ct_2_Ct1_xl</th>\n",
       "      <th>Ct_2_Ct1_xlnx</th>\n",
       "      <th>Ct_2_Ct1_xom</th>\n",
       "      <th>Ct_2_Ct1_xray</th>\n",
       "      <th>Ct_2_Ct1_xrx</th>\n",
       "      <th>Ct_2_Ct1_yhoo</th>\n",
       "      <th>Ct_2_Ct1_yum</th>\n",
       "      <th>Ct_2_Ct1_zion</th>\n",
       "    </tr>\n",
       "  </thead>\n",
       "  <tbody>\n",
       "    <tr>\n",
       "      <th>1998-01-02</th>\n",
       "      <td>0.017390</td>\n",
       "      <td>-0.015503</td>\n",
       "      <td>-0.016078</td>\n",
       "      <td>0.004586</td>\n",
       "      <td>-0.006547</td>\n",
       "      <td>0.047809</td>\n",
       "      <td>0.012268</td>\n",
       "      <td>0.038082</td>\n",
       "      <td>0.000000</td>\n",
       "      <td>0.012420</td>\n",
       "      <td>...</td>\n",
       "      <td>-0.006149</td>\n",
       "      <td>-0.010796</td>\n",
       "      <td>0.004856</td>\n",
       "      <td>-0.019672</td>\n",
       "      <td>-0.011189</td>\n",
       "      <td>-0.029680</td>\n",
       "      <td>0.015005</td>\n",
       "      <td>-0.054224</td>\n",
       "      <td>-0.023887</td>\n",
       "      <td>0.019158</td>\n",
       "    </tr>\n",
       "    <tr>\n",
       "      <th>1998-01-05</th>\n",
       "      <td>-0.022601</td>\n",
       "      <td>0.168686</td>\n",
       "      <td>-0.018823</td>\n",
       "      <td>-0.016672</td>\n",
       "      <td>0.007916</td>\n",
       "      <td>-0.005666</td>\n",
       "      <td>0.035934</td>\n",
       "      <td>-0.033379</td>\n",
       "      <td>-0.017727</td>\n",
       "      <td>0.002139</td>\n",
       "      <td>...</td>\n",
       "      <td>-0.012078</td>\n",
       "      <td>-0.012148</td>\n",
       "      <td>-0.003001</td>\n",
       "      <td>-0.006644</td>\n",
       "      <td>-0.038411</td>\n",
       "      <td>-0.002427</td>\n",
       "      <td>-0.008338</td>\n",
       "      <td>0.016891</td>\n",
       "      <td>-0.040999</td>\n",
       "      <td>-0.010841</td>\n",
       "    </tr>\n",
       "    <tr>\n",
       "      <th>1998-01-06</th>\n",
       "      <td>0.001693</td>\n",
       "      <td>-0.082508</td>\n",
       "      <td>0.010072</td>\n",
       "      <td>0.005546</td>\n",
       "      <td>0.005239</td>\n",
       "      <td>-0.022684</td>\n",
       "      <td>-0.016370</td>\n",
       "      <td>-0.043925</td>\n",
       "      <td>0.062917</td>\n",
       "      <td>-0.013562</td>\n",
       "      <td>...</td>\n",
       "      <td>0.026259</td>\n",
       "      <td>-0.008895</td>\n",
       "      <td>-0.017745</td>\n",
       "      <td>-0.044161</td>\n",
       "      <td>0.030221</td>\n",
       "      <td>-0.006268</td>\n",
       "      <td>-0.034613</td>\n",
       "      <td>-0.001095</td>\n",
       "      <td>0.000000</td>\n",
       "      <td>-0.029190</td>\n",
       "    </tr>\n",
       "    <tr>\n",
       "      <th>1998-01-07</th>\n",
       "      <td>-0.042290</td>\n",
       "      <td>0.034934</td>\n",
       "      <td>0.005435</td>\n",
       "      <td>0.015691</td>\n",
       "      <td>-0.017187</td>\n",
       "      <td>0.020888</td>\n",
       "      <td>0.010469</td>\n",
       "      <td>0.002260</td>\n",
       "      <td>-0.016930</td>\n",
       "      <td>-0.004169</td>\n",
       "      <td>...</td>\n",
       "      <td>0.000000</td>\n",
       "      <td>0.002141</td>\n",
       "      <td>-0.014475</td>\n",
       "      <td>0.005005</td>\n",
       "      <td>-0.020771</td>\n",
       "      <td>-0.006658</td>\n",
       "      <td>-0.020850</td>\n",
       "      <td>0.006869</td>\n",
       "      <td>-0.040050</td>\n",
       "      <td>-0.083267</td>\n",
       "    </tr>\n",
       "    <tr>\n",
       "      <th>1998-01-08</th>\n",
       "      <td>-0.024094</td>\n",
       "      <td>0.010464</td>\n",
       "      <td>-0.031078</td>\n",
       "      <td>-0.011075</td>\n",
       "      <td>0.005301</td>\n",
       "      <td>-0.056066</td>\n",
       "      <td>-0.026867</td>\n",
       "      <td>-0.060529</td>\n",
       "      <td>-0.014034</td>\n",
       "      <td>-0.017884</td>\n",
       "      <td>...</td>\n",
       "      <td>-0.083382</td>\n",
       "      <td>-0.008964</td>\n",
       "      <td>-0.018331</td>\n",
       "      <td>-0.037006</td>\n",
       "      <td>-0.022243</td>\n",
       "      <td>-0.049740</td>\n",
       "      <td>-0.040273</td>\n",
       "      <td>-0.039685</td>\n",
       "      <td>0.007296</td>\n",
       "      <td>-0.037270</td>\n",
       "    </tr>\n",
       "  </tbody>\n",
       "</table>\n",
       "<p>5 rows × 388 columns</p>\n",
       "</div>"
      ],
      "text/plain": [
       "            Ct_2_Ct1_aa  Ct_2_Ct1_aapl  Ct_2_Ct1_abc  Ct_2_Ct1_abt  \\\n",
       "1998-01-02     0.017390      -0.015503     -0.016078      0.004586   \n",
       "1998-01-05    -0.022601       0.168686     -0.018823     -0.016672   \n",
       "1998-01-06     0.001693      -0.082508      0.010072      0.005546   \n",
       "1998-01-07    -0.042290       0.034934      0.005435      0.015691   \n",
       "1998-01-08    -0.024094       0.010464     -0.031078     -0.011075   \n",
       "\n",
       "            Ct_2_Ct1_ace  Ct_2_Ct1_act  Ct_2_Ct1_adbe  Ct_2_Ct1_adi  \\\n",
       "1998-01-02     -0.006547      0.047809       0.012268      0.038082   \n",
       "1998-01-05      0.007916     -0.005666       0.035934     -0.033379   \n",
       "1998-01-06      0.005239     -0.022684      -0.016370     -0.043925   \n",
       "1998-01-07     -0.017187      0.020888       0.010469      0.002260   \n",
       "1998-01-08      0.005301     -0.056066      -0.026867     -0.060529   \n",
       "\n",
       "            Ct_2_Ct1_adm  Ct_2_Ct1_adp      ...        Ct_2_Ct1_x  \\\n",
       "1998-01-02      0.000000      0.012420      ...         -0.006149   \n",
       "1998-01-05     -0.017727      0.002139      ...         -0.012078   \n",
       "1998-01-06      0.062917     -0.013562      ...          0.026259   \n",
       "1998-01-07     -0.016930     -0.004169      ...          0.000000   \n",
       "1998-01-08     -0.014034     -0.017884      ...         -0.083382   \n",
       "\n",
       "            Ct_2_Ct1_xel  Ct_2_Ct1_xl  Ct_2_Ct1_xlnx  Ct_2_Ct1_xom  \\\n",
       "1998-01-02     -0.010796     0.004856      -0.019672     -0.011189   \n",
       "1998-01-05     -0.012148    -0.003001      -0.006644     -0.038411   \n",
       "1998-01-06     -0.008895    -0.017745      -0.044161      0.030221   \n",
       "1998-01-07      0.002141    -0.014475       0.005005     -0.020771   \n",
       "1998-01-08     -0.008964    -0.018331      -0.037006     -0.022243   \n",
       "\n",
       "            Ct_2_Ct1_xray  Ct_2_Ct1_xrx  Ct_2_Ct1_yhoo  Ct_2_Ct1_yum  \\\n",
       "1998-01-02      -0.029680      0.015005      -0.054224     -0.023887   \n",
       "1998-01-05      -0.002427     -0.008338       0.016891     -0.040999   \n",
       "1998-01-06      -0.006268     -0.034613      -0.001095      0.000000   \n",
       "1998-01-07      -0.006658     -0.020850       0.006869     -0.040050   \n",
       "1998-01-08      -0.049740     -0.040273      -0.039685      0.007296   \n",
       "\n",
       "            Ct_2_Ct1_zion  \n",
       "1998-01-02       0.019158  \n",
       "1998-01-05      -0.010841  \n",
       "1998-01-06      -0.029190  \n",
       "1998-01-07      -0.083267  \n",
       "1998-01-08      -0.037270  \n",
       "\n",
       "[5 rows x 388 columns]"
      ]
     },
     "execution_count": 34,
     "metadata": {
      "tags": []
     },
     "output_type": "execute_result"
    }
   ],
   "source": [
    "targetdf.head()"
   ]
  },
  {
   "cell_type": "markdown",
   "metadata": {
    "colab_type": "text",
    "id": "8D-2-gGmLpJG"
   },
   "source": [
    "#### Formula for Total Return at time t: \\begin{equation*}Return_t = \\sum\\nolimits_{s \\in stocks} 1 -e^{ln(\\frac{V_{f}^s}{V_{i}^s})}  \\end{equation*}"
   ]
  },
  {
   "cell_type": "code",
   "execution_count": null,
   "metadata": {
    "colab": {
     "autoexec": {
      "startup": false,
      "wait_interval": 0
     }
    },
    "colab_type": "code",
    "id": "YuDdObbFLpJI"
   },
   "outputs": [],
   "source": [
    "avg_returns = ((1-exp(targetdf)).sum(1))/num_stocks # Average return if 1$ worth of each stock is bought at close everyday"
   ]
  },
  {
   "cell_type": "code",
   "execution_count": 36,
   "metadata": {
    "colab": {
     "autoexec": {
      "startup": false,
      "wait_interval": 0
     },
     "base_uri": "https://localhost:8080/",
     "height": 119,
     "output_extras": [
      {
       "item_id": 1
      }
     ]
    },
    "colab_type": "code",
    "executionInfo": {
     "elapsed": 245,
     "status": "ok",
     "timestamp": 1522511629210,
     "user": {
      "displayName": "Shivankur Kapoor",
      "photoUrl": "//lh6.googleusercontent.com/-PynCFKt_Vaw/AAAAAAAAAAI/AAAAAAAAAB0/gMErFHjIJjw/s50-c-k-no/photo.jpg",
      "userId": "105072539454715681442"
     },
     "user_tz": 240
    },
    "id": "HR0pCMTKLpJR",
    "outputId": "8657c1bf-b385-46b7-8323-c95a96ec78ba"
   },
   "outputs": [
    {
     "data": {
      "text/plain": [
       "1998-01-02   -0.000101\n",
       "1998-01-05    0.008144\n",
       "1998-01-06    0.005501\n",
       "1998-01-07    0.006905\n",
       "1998-01-08    0.031674\n",
       "dtype: float64"
      ]
     },
     "execution_count": 36,
     "metadata": {
      "tags": []
     },
     "output_type": "execute_result"
    }
   ],
   "source": [
    "avg_returns.head()"
   ]
  },
  {
   "cell_type": "code",
   "execution_count": null,
   "metadata": {
    "colab": {
     "autoexec": {
      "startup": false,
      "wait_interval": 0
     }
    },
    "colab_type": "code",
    "id": "TPX2lVDvLpJX"
   },
   "outputs": [],
   "source": [
    "labeled = pd.DataFrame()\n",
    "labeled['Avg_return'] = avg_returns\n",
    "labeled['Class'] = avg_returns.apply(label,1)\n",
    "labeled['Multiclass'] = pd.qcut(avg_returns, 3, labels=range(3))"
   ]
  },
  {
   "cell_type": "code",
   "execution_count": 62,
   "metadata": {
    "colab": {
     "autoexec": {
      "startup": false,
      "wait_interval": 0
     },
     "base_uri": "https://localhost:8080/",
     "height": 68,
     "output_extras": [
      {
       "item_id": 1
      }
     ]
    },
    "colab_type": "code",
    "executionInfo": {
     "elapsed": 256,
     "status": "ok",
     "timestamp": 1522512085813,
     "user": {
      "displayName": "Shivankur Kapoor",
      "photoUrl": "//lh6.googleusercontent.com/-PynCFKt_Vaw/AAAAAAAAAAI/AAAAAAAAAB0/gMErFHjIJjw/s50-c-k-no/photo.jpg",
      "userId": "105072539454715681442"
     },
     "user_tz": 240
    },
    "id": "cHE7LdXsLpJd",
    "outputId": "ea5aa434-76de-4ea2-af45-4ceab7b32fdf"
   },
   "outputs": [
    {
     "data": {
      "text/plain": [
       "[(-0.00301, 0.00119], (0.00741, 0.0999], (0.00119, 0.00741], (-0.109, -0.00877], (-0.00877, -0.00301]]\n",
       "Categories (5, interval[float64]): [(-0.109, -0.00877] < (-0.00877, -0.00301] < (-0.00301, 0.00119] <\n",
       "                                    (0.00119, 0.00741] < (0.00741, 0.0999]]"
      ]
     },
     "execution_count": 62,
     "metadata": {
      "tags": []
     },
     "output_type": "execute_result"
    }
   ],
   "source": [
    "pd.qcut(avg_returns, 5).unique()"
   ]
  },
  {
   "cell_type": "code",
   "execution_count": 63,
   "metadata": {
    "colab": {
     "autoexec": {
      "startup": false,
      "wait_interval": 0
     },
     "base_uri": "https://localhost:8080/",
     "height": 85,
     "output_extras": [
      {
       "item_id": 1
      }
     ]
    },
    "colab_type": "code",
    "executionInfo": {
     "elapsed": 296,
     "status": "ok",
     "timestamp": 1522512086835,
     "user": {
      "displayName": "Shivankur Kapoor",
      "photoUrl": "//lh6.googleusercontent.com/-PynCFKt_Vaw/AAAAAAAAAAI/AAAAAAAAAB0/gMErFHjIJjw/s50-c-k-no/photo.jpg",
      "userId": "105072539454715681442"
     },
     "user_tz": 240
    },
    "id": "1TDUAiXRLpJg",
    "outputId": "b7bd35bf-7fee-4b4f-fdb4-b36ee0e759b6"
   },
   "outputs": [
    {
     "data": {
      "text/plain": [
       "-1    1355\n",
       " 1    1301\n",
       " 0    1244\n",
       "Name: Class, dtype: int64"
      ]
     },
     "execution_count": 63,
     "metadata": {
      "tags": []
     },
     "output_type": "execute_result"
    }
   ],
   "source": [
    "labeled['Class'].value_counts()"
   ]
  },
  {
   "cell_type": "code",
   "execution_count": 64,
   "metadata": {
    "colab": {
     "autoexec": {
      "startup": false,
      "wait_interval": 0
     },
     "base_uri": "https://localhost:8080/",
     "height": 204,
     "output_extras": [
      {
       "item_id": 1
      }
     ]
    },
    "colab_type": "code",
    "executionInfo": {
     "elapsed": 277,
     "status": "ok",
     "timestamp": 1522512088972,
     "user": {
      "displayName": "Shivankur Kapoor",
      "photoUrl": "//lh6.googleusercontent.com/-PynCFKt_Vaw/AAAAAAAAAAI/AAAAAAAAAB0/gMErFHjIJjw/s50-c-k-no/photo.jpg",
      "userId": "105072539454715681442"
     },
     "user_tz": 240
    },
    "id": "_7UunrZ_LpJo",
    "outputId": "7bc86775-91e0-46af-fd43-95c0b3c3b62e"
   },
   "outputs": [
    {
     "data": {
      "text/html": [
       "<div>\n",
       "<style scoped>\n",
       "    .dataframe tbody tr th:only-of-type {\n",
       "        vertical-align: middle;\n",
       "    }\n",
       "\n",
       "    .dataframe tbody tr th {\n",
       "        vertical-align: top;\n",
       "    }\n",
       "\n",
       "    .dataframe thead th {\n",
       "        text-align: right;\n",
       "    }\n",
       "</style>\n",
       "<table border=\"1\" class=\"dataframe\">\n",
       "  <thead>\n",
       "    <tr style=\"text-align: right;\">\n",
       "      <th></th>\n",
       "      <th>Avg_return</th>\n",
       "      <th>Class</th>\n",
       "      <th>Multiclass</th>\n",
       "    </tr>\n",
       "  </thead>\n",
       "  <tbody>\n",
       "    <tr>\n",
       "      <th>1998-01-02</th>\n",
       "      <td>-0.000101</td>\n",
       "      <td>0</td>\n",
       "      <td>1</td>\n",
       "    </tr>\n",
       "    <tr>\n",
       "      <th>1998-01-05</th>\n",
       "      <td>0.008144</td>\n",
       "      <td>1</td>\n",
       "      <td>2</td>\n",
       "    </tr>\n",
       "    <tr>\n",
       "      <th>1998-01-06</th>\n",
       "      <td>0.005501</td>\n",
       "      <td>1</td>\n",
       "      <td>2</td>\n",
       "    </tr>\n",
       "    <tr>\n",
       "      <th>1998-01-07</th>\n",
       "      <td>0.006905</td>\n",
       "      <td>1</td>\n",
       "      <td>2</td>\n",
       "    </tr>\n",
       "    <tr>\n",
       "      <th>1998-01-08</th>\n",
       "      <td>0.031674</td>\n",
       "      <td>1</td>\n",
       "      <td>2</td>\n",
       "    </tr>\n",
       "  </tbody>\n",
       "</table>\n",
       "</div>"
      ],
      "text/plain": [
       "            Avg_return  Class Multiclass\n",
       "1998-01-02   -0.000101      0          1\n",
       "1998-01-05    0.008144      1          2\n",
       "1998-01-06    0.005501      1          2\n",
       "1998-01-07    0.006905      1          2\n",
       "1998-01-08    0.031674      1          2"
      ]
     },
     "execution_count": 64,
     "metadata": {
      "tags": []
     },
     "output_type": "execute_result"
    }
   ],
   "source": [
    "labeled.head()"
   ]
  },
  {
   "cell_type": "code",
   "execution_count": 85,
   "metadata": {
    "colab": {
     "autoexec": {
      "startup": false,
      "wait_interval": 0
     },
     "base_uri": "https://localhost:8080/",
     "height": 85,
     "output_extras": [
      {
       "item_id": 1
      }
     ]
    },
    "colab_type": "code",
    "executionInfo": {
     "elapsed": 245,
     "status": "ok",
     "timestamp": 1522512386233,
     "user": {
      "displayName": "Shivankur Kapoor",
      "photoUrl": "//lh6.googleusercontent.com/-PynCFKt_Vaw/AAAAAAAAAAI/AAAAAAAAAB0/gMErFHjIJjw/s50-c-k-no/photo.jpg",
      "userId": "105072539454715681442"
     },
     "user_tz": 240
    },
    "id": "aL2S3DSeLpJr",
    "outputId": "6127fd82-2481-490a-89a1-821e3e6c0c32"
   },
   "outputs": [
    {
     "data": {
      "text/plain": [
       "2    1300\n",
       "1    1300\n",
       "0    1300\n",
       "Name: Multiclass, dtype: int64"
      ]
     },
     "execution_count": 85,
     "metadata": {
      "tags": []
     },
     "output_type": "execute_result"
    }
   ],
   "source": [
    "labeled['Multiclass'].value_counts()"
   ]
  },
  {
   "cell_type": "code",
   "execution_count": null,
   "metadata": {
    "colab": {
     "autoexec": {
      "startup": false,
      "wait_interval": 0
     }
    },
    "colab_type": "code",
    "id": "avrD8pE9LpJu"
   },
   "outputs": [],
   "source": [
    "labeled['Act_return'] = labeled['Class'] * labeled['Avg_return']"
   ]
  },
  {
   "cell_type": "code",
   "execution_count": null,
   "metadata": {
    "colab": {
     "autoexec": {
      "startup": false,
      "wait_interval": 0
     }
    },
    "colab_type": "code",
    "id": "n1y96z0lkgI7"
   },
   "outputs": [],
   "source": []
  },
  {
   "cell_type": "code",
   "execution_count": 83,
   "metadata": {
    "colab": {
     "autoexec": {
      "startup": false,
      "wait_interval": 0
     },
     "base_uri": "https://localhost:8080/",
     "height": 204,
     "output_extras": [
      {
       "item_id": 1
      }
     ]
    },
    "colab_type": "code",
    "executionInfo": {
     "elapsed": 439,
     "status": "ok",
     "timestamp": 1522512373604,
     "user": {
      "displayName": "Shivankur Kapoor",
      "photoUrl": "//lh6.googleusercontent.com/-PynCFKt_Vaw/AAAAAAAAAAI/AAAAAAAAAB0/gMErFHjIJjw/s50-c-k-no/photo.jpg",
      "userId": "105072539454715681442"
     },
     "user_tz": 240
    },
    "id": "8KUMtptQLpJw",
    "outputId": "92e545d6-5d91-42bc-c56b-562595414a9c"
   },
   "outputs": [
    {
     "data": {
      "text/html": [
       "<div>\n",
       "<style scoped>\n",
       "    .dataframe tbody tr th:only-of-type {\n",
       "        vertical-align: middle;\n",
       "    }\n",
       "\n",
       "    .dataframe tbody tr th {\n",
       "        vertical-align: top;\n",
       "    }\n",
       "\n",
       "    .dataframe thead th {\n",
       "        text-align: right;\n",
       "    }\n",
       "</style>\n",
       "<table border=\"1\" class=\"dataframe\">\n",
       "  <thead>\n",
       "    <tr style=\"text-align: right;\">\n",
       "      <th></th>\n",
       "      <th>Avg_return</th>\n",
       "      <th>Class</th>\n",
       "      <th>Multiclass</th>\n",
       "      <th>Act_return</th>\n",
       "      <th>Tfclass</th>\n",
       "    </tr>\n",
       "  </thead>\n",
       "  <tbody>\n",
       "    <tr>\n",
       "      <th>1998-01-02</th>\n",
       "      <td>-0.000101</td>\n",
       "      <td>0</td>\n",
       "      <td>1</td>\n",
       "      <td>-0.000000</td>\n",
       "      <td>1</td>\n",
       "    </tr>\n",
       "    <tr>\n",
       "      <th>1998-01-05</th>\n",
       "      <td>0.008144</td>\n",
       "      <td>1</td>\n",
       "      <td>2</td>\n",
       "      <td>0.008144</td>\n",
       "      <td>2</td>\n",
       "    </tr>\n",
       "    <tr>\n",
       "      <th>1998-01-06</th>\n",
       "      <td>0.005501</td>\n",
       "      <td>1</td>\n",
       "      <td>2</td>\n",
       "      <td>0.005501</td>\n",
       "      <td>2</td>\n",
       "    </tr>\n",
       "    <tr>\n",
       "      <th>1998-01-07</th>\n",
       "      <td>0.006905</td>\n",
       "      <td>1</td>\n",
       "      <td>2</td>\n",
       "      <td>0.006905</td>\n",
       "      <td>2</td>\n",
       "    </tr>\n",
       "    <tr>\n",
       "      <th>1998-01-08</th>\n",
       "      <td>0.031674</td>\n",
       "      <td>1</td>\n",
       "      <td>2</td>\n",
       "      <td>0.031674</td>\n",
       "      <td>2</td>\n",
       "    </tr>\n",
       "  </tbody>\n",
       "</table>\n",
       "</div>"
      ],
      "text/plain": [
       "            Avg_return  Class Multiclass  Act_return Tfclass\n",
       "1998-01-02   -0.000101      0          1   -0.000000       1\n",
       "1998-01-05    0.008144      1          2    0.008144       2\n",
       "1998-01-06    0.005501      1          2    0.005501       2\n",
       "1998-01-07    0.006905      1          2    0.006905       2\n",
       "1998-01-08    0.031674      1          2    0.031674       2"
      ]
     },
     "execution_count": 83,
     "metadata": {
      "tags": []
     },
     "output_type": "execute_result"
    }
   ],
   "source": [
    "labeled.head(5)"
   ]
  },
  {
   "cell_type": "code",
   "execution_count": 72,
   "metadata": {
    "colab": {
     "autoexec": {
      "startup": false,
      "wait_interval": 0
     },
     "base_uri": "https://localhost:8080/",
     "height": 843,
     "output_extras": [
      {
       "item_id": 1
      },
      {
       "item_id": 2
      }
     ]
    },
    "colab_type": "code",
    "executionInfo": {
     "elapsed": 840,
     "status": "ok",
     "timestamp": 1522512161224,
     "user": {
      "displayName": "Shivankur Kapoor",
      "photoUrl": "//lh6.googleusercontent.com/-PynCFKt_Vaw/AAAAAAAAAAI/AAAAAAAAAB0/gMErFHjIJjw/s50-c-k-no/photo.jpg",
      "userId": "105072539454715681442"
     },
     "user_tz": 240
    },
    "id": "QqEGWv3SLpJ0",
    "outputId": "65239968-58fb-45fc-8ae1-1c3ea6a84e0c"
   },
   "outputs": [
    {
     "data": {
      "text/plain": [
       "array([<matplotlib.axes._subplots.AxesSubplot object at 0x7f81a41df710>,\n",
       "       <matplotlib.axes._subplots.AxesSubplot object at 0x7f81c98b0a10>],\n",
       "      dtype=object)"
      ]
     },
     "execution_count": 72,
     "metadata": {
      "tags": []
     },
     "output_type": "execute_result"
    },
    {
     "data": {
      "image/png": "[encoded data removed]",
      "text/plain": [
       "<matplotlib.figure.Figure at 0x7f81a41cbd50>"
      ]
     },
     "metadata": {
      "tags": []
     },
     "output_type": "display_data"
    }
   ],
   "source": [
    "labeled[['Avg_return', 'Act_return']].cumsum().plot(subplots=True, figsize=(15,15))"
   ]
  },
  {
   "cell_type": "code",
   "execution_count": null,
   "metadata": {
    "colab": {
     "autoexec": {
      "startup": false,
      "wait_interval": 0
     }
    },
    "colab_type": "code",
    "id": "PrR8q0T3LpJ3"
   },
   "outputs": [],
   "source": [
    "labeled['Tfclass'] = labeled['Multiclass']\n",
    "test_size=600"
   ]
  },
  {
   "cell_type": "code",
   "execution_count": null,
   "metadata": {
    "colab": {
     "autoexec": {
      "startup": false,
      "wait_interval": 0
     }
    },
    "colab_type": "code",
    "id": "FRjxMFR6LpJ6"
   },
   "outputs": [],
   "source": [
    "BATCH_SIZE=50\n",
    "train = (inputdf[:-test_size].values,labeled.Tfclass[:-test_size].values)\n",
    "val =   (inputdf[-test_size:].values,labeled.Tfclass[-test_size:].values)\n",
    "NUM_TRAIN_BATCHES = int(len(train[0])/BATCH_SIZE)\n",
    "NUM_VAL_BATCHES = int(len(val[1])/BATCH_SIZE)"
   ]
  },
  {
   "cell_type": "code",
   "execution_count": 87,
   "metadata": {
    "colab": {
     "autoexec": {
      "startup": false,
      "wait_interval": 0
     },
     "base_uri": "https://localhost:8080/",
     "height": 34,
     "output_extras": [
      {
       "item_id": 1
      }
     ]
    },
    "colab_type": "code",
    "executionInfo": {
     "elapsed": 246,
     "status": "ok",
     "timestamp": 1522512395768,
     "user": {
      "displayName": "Shivankur Kapoor",
      "photoUrl": "//lh6.googleusercontent.com/-PynCFKt_Vaw/AAAAAAAAAAI/AAAAAAAAAB0/gMErFHjIJjw/s50-c-k-no/photo.jpg",
      "userId": "105072539454715681442"
     },
     "user_tz": 240
    },
    "id": "adWA1mi7LpJ9",
    "outputId": "3cffa9e0-3fcf-4e86-b269-3b08a3b617e8"
   },
   "outputs": [
    {
     "data": {
      "text/plain": [
       "3900"
      ]
     },
     "execution_count": 87,
     "metadata": {
      "tags": []
     },
     "output_type": "execute_result"
    }
   ],
   "source": [
    "len(inputdf)"
   ]
  },
  {
   "cell_type": "code",
   "execution_count": 88,
   "metadata": {
    "colab": {
     "autoexec": {
      "startup": false,
      "wait_interval": 0
     },
     "base_uri": "https://localhost:8080/",
     "height": 338,
     "output_extras": [
      {
       "item_id": 1
      }
     ]
    },
    "colab_type": "code",
    "executionInfo": {
     "elapsed": 295,
     "status": "ok",
     "timestamp": 1522512396916,
     "user": {
      "displayName": "Shivankur Kapoor",
      "photoUrl": "//lh6.googleusercontent.com/-PynCFKt_Vaw/AAAAAAAAAAI/AAAAAAAAAB0/gMErFHjIJjw/s50-c-k-no/photo.jpg",
      "userId": "105072539454715681442"
     },
     "user_tz": 240
    },
    "id": "eYYCdb2WLpJ_",
    "outputId": "df6cdb65-8add-4eb8-c2b9-429f91602456"
   },
   "outputs": [
    {
     "data": {
      "text/html": [
       "<div>\n",
       "<style scoped>\n",
       "    .dataframe tbody tr th:only-of-type {\n",
       "        vertical-align: middle;\n",
       "    }\n",
       "\n",
       "    .dataframe tbody tr th {\n",
       "        vertical-align: top;\n",
       "    }\n",
       "\n",
       "    .dataframe thead th {\n",
       "        text-align: right;\n",
       "    }\n",
       "</style>\n",
       "<table border=\"1\" class=\"dataframe\">\n",
       "  <thead>\n",
       "    <tr style=\"text-align: right;\">\n",
       "      <th></th>\n",
       "      <th>C_2_H_aa</th>\n",
       "      <th>C_2_H_aapl</th>\n",
       "      <th>C_2_H_abc</th>\n",
       "      <th>C_2_H_abt</th>\n",
       "      <th>C_2_H_ace</th>\n",
       "      <th>C_2_H_act</th>\n",
       "      <th>C_2_H_adbe</th>\n",
       "      <th>C_2_H_adi</th>\n",
       "      <th>C_2_H_adm</th>\n",
       "      <th>C_2_H_adp</th>\n",
       "      <th>...</th>\n",
       "      <th>Vol_x</th>\n",
       "      <th>Vol_xel</th>\n",
       "      <th>Vol_xl</th>\n",
       "      <th>Vol_xlnx</th>\n",
       "      <th>Vol_xom</th>\n",
       "      <th>Vol_xray</th>\n",
       "      <th>Vol_xrx</th>\n",
       "      <th>Vol_yhoo</th>\n",
       "      <th>Vol_yum</th>\n",
       "      <th>Vol_zion</th>\n",
       "    </tr>\n",
       "  </thead>\n",
       "  <tbody>\n",
       "    <tr>\n",
       "      <th>1998-01-02</th>\n",
       "      <td>0.670259</td>\n",
       "      <td>1.019696</td>\n",
       "      <td>0.296978</td>\n",
       "      <td>1.031419</td>\n",
       "      <td>0.029617</td>\n",
       "      <td>-0.347198</td>\n",
       "      <td>0.457108</td>\n",
       "      <td>0.733753</td>\n",
       "      <td>0.133289</td>\n",
       "      <td>-1.288187</td>\n",
       "      <td>...</td>\n",
       "      <td>-0.882840</td>\n",
       "      <td>-1.039835</td>\n",
       "      <td>-0.676802</td>\n",
       "      <td>1.391497</td>\n",
       "      <td>-1.045626</td>\n",
       "      <td>-1.147952</td>\n",
       "      <td>-0.817355</td>\n",
       "      <td>-0.368713</td>\n",
       "      <td>-0.678763</td>\n",
       "      <td>-0.724482</td>\n",
       "    </tr>\n",
       "    <tr>\n",
       "      <th>1998-01-05</th>\n",
       "      <td>0.462520</td>\n",
       "      <td>-0.984079</td>\n",
       "      <td>-0.103694</td>\n",
       "      <td>0.208524</td>\n",
       "      <td>0.200087</td>\n",
       "      <td>0.748953</td>\n",
       "      <td>0.140341</td>\n",
       "      <td>-0.610160</td>\n",
       "      <td>-0.073189</td>\n",
       "      <td>0.786681</td>\n",
       "      <td>...</td>\n",
       "      <td>-0.899201</td>\n",
       "      <td>-0.706551</td>\n",
       "      <td>-0.621025</td>\n",
       "      <td>1.019607</td>\n",
       "      <td>-0.615370</td>\n",
       "      <td>-0.556684</td>\n",
       "      <td>-0.757660</td>\n",
       "      <td>0.064841</td>\n",
       "      <td>0.980283</td>\n",
       "      <td>-0.735275</td>\n",
       "    </tr>\n",
       "    <tr>\n",
       "      <th>1998-01-06</th>\n",
       "      <td>-0.088471</td>\n",
       "      <td>-3.590776</td>\n",
       "      <td>-0.684038</td>\n",
       "      <td>-0.458034</td>\n",
       "      <td>0.826198</td>\n",
       "      <td>-0.839167</td>\n",
       "      <td>-0.288677</td>\n",
       "      <td>-0.793247</td>\n",
       "      <td>-0.337094</td>\n",
       "      <td>0.803780</td>\n",
       "      <td>...</td>\n",
       "      <td>-0.796421</td>\n",
       "      <td>-1.025938</td>\n",
       "      <td>-0.634169</td>\n",
       "      <td>0.020195</td>\n",
       "      <td>-0.527923</td>\n",
       "      <td>-1.131583</td>\n",
       "      <td>-0.629732</td>\n",
       "      <td>0.150071</td>\n",
       "      <td>1.697887</td>\n",
       "      <td>-0.683202</td>\n",
       "    </tr>\n",
       "    <tr>\n",
       "      <th>1998-01-07</th>\n",
       "      <td>1.002099</td>\n",
       "      <td>-4.732173</td>\n",
       "      <td>0.921365</td>\n",
       "      <td>1.031419</td>\n",
       "      <td>-0.221831</td>\n",
       "      <td>-0.297508</td>\n",
       "      <td>0.080277</td>\n",
       "      <td>-1.239360</td>\n",
       "      <td>0.999108</td>\n",
       "      <td>-0.148371</td>\n",
       "      <td>...</td>\n",
       "      <td>-0.787356</td>\n",
       "      <td>-0.910382</td>\n",
       "      <td>-0.616242</td>\n",
       "      <td>1.023705</td>\n",
       "      <td>-0.134130</td>\n",
       "      <td>-0.329006</td>\n",
       "      <td>-0.504232</td>\n",
       "      <td>-0.463651</td>\n",
       "      <td>0.515268</td>\n",
       "      <td>-0.635858</td>\n",
       "    </tr>\n",
       "    <tr>\n",
       "      <th>1998-01-08</th>\n",
       "      <td>-2.074267</td>\n",
       "      <td>-0.790227</td>\n",
       "      <td>0.602449</td>\n",
       "      <td>0.474420</td>\n",
       "      <td>0.197524</td>\n",
       "      <td>0.886626</td>\n",
       "      <td>0.327069</td>\n",
       "      <td>0.604855</td>\n",
       "      <td>-1.302776</td>\n",
       "      <td>0.364316</td>\n",
       "      <td>...</td>\n",
       "      <td>-0.857893</td>\n",
       "      <td>-0.867660</td>\n",
       "      <td>-0.655003</td>\n",
       "      <td>0.645285</td>\n",
       "      <td>-0.907375</td>\n",
       "      <td>-1.066107</td>\n",
       "      <td>-0.560549</td>\n",
       "      <td>-0.157777</td>\n",
       "      <td>0.235907</td>\n",
       "      <td>-0.605092</td>\n",
       "    </tr>\n",
       "  </tbody>\n",
       "</table>\n",
       "<p>5 rows × 2328 columns</p>\n",
       "</div>"
      ],
      "text/plain": [
       "            C_2_H_aa  C_2_H_aapl  C_2_H_abc  C_2_H_abt  C_2_H_ace  C_2_H_act  \\\n",
       "1998-01-02  0.670259    1.019696   0.296978   1.031419   0.029617  -0.347198   \n",
       "1998-01-05  0.462520   -0.984079  -0.103694   0.208524   0.200087   0.748953   \n",
       "1998-01-06 -0.088471   -3.590776  -0.684038  -0.458034   0.826198  -0.839167   \n",
       "1998-01-07  1.002099   -4.732173   0.921365   1.031419  -0.221831  -0.297508   \n",
       "1998-01-08 -2.074267   -0.790227   0.602449   0.474420   0.197524   0.886626   \n",
       "\n",
       "            C_2_H_adbe  C_2_H_adi  C_2_H_adm  C_2_H_adp    ...        Vol_x  \\\n",
       "1998-01-02    0.457108   0.733753   0.133289  -1.288187    ...    -0.882840   \n",
       "1998-01-05    0.140341  -0.610160  -0.073189   0.786681    ...    -0.899201   \n",
       "1998-01-06   -0.288677  -0.793247  -0.337094   0.803780    ...    -0.796421   \n",
       "1998-01-07    0.080277  -1.239360   0.999108  -0.148371    ...    -0.787356   \n",
       "1998-01-08    0.327069   0.604855  -1.302776   0.364316    ...    -0.857893   \n",
       "\n",
       "             Vol_xel    Vol_xl  Vol_xlnx   Vol_xom  Vol_xray   Vol_xrx  \\\n",
       "1998-01-02 -1.039835 -0.676802  1.391497 -1.045626 -1.147952 -0.817355   \n",
       "1998-01-05 -0.706551 -0.621025  1.019607 -0.615370 -0.556684 -0.757660   \n",
       "1998-01-06 -1.025938 -0.634169  0.020195 -0.527923 -1.131583 -0.629732   \n",
       "1998-01-07 -0.910382 -0.616242  1.023705 -0.134130 -0.329006 -0.504232   \n",
       "1998-01-08 -0.867660 -0.655003  0.645285 -0.907375 -1.066107 -0.560549   \n",
       "\n",
       "            Vol_yhoo   Vol_yum  Vol_zion  \n",
       "1998-01-02 -0.368713 -0.678763 -0.724482  \n",
       "1998-01-05  0.064841  0.980283 -0.735275  \n",
       "1998-01-06  0.150071  1.697887 -0.683202  \n",
       "1998-01-07 -0.463651  0.515268 -0.635858  \n",
       "1998-01-08 -0.157777  0.235907 -0.605092  \n",
       "\n",
       "[5 rows x 2328 columns]"
      ]
     },
     "execution_count": 88,
     "metadata": {
      "tags": []
     },
     "output_type": "execute_result"
    }
   ],
   "source": [
    "inputdf.head()"
   ]
  },
  {
   "cell_type": "code",
   "execution_count": null,
   "metadata": {
    "colab": {
     "autoexec": {
      "startup": false,
      "wait_interval": 0
     }
    },
    "colab_type": "code",
    "id": "s08ra6dTLpKC"
   },
   "outputs": [],
   "source": [
    "num_features = len(inputdf.columns)\n",
    "num_classes = labeled.Tfclass.nunique()"
   ]
  },
  {
   "cell_type": "code",
   "execution_count": null,
   "metadata": {
    "colab": {
     "autoexec": {
      "startup": false,
      "wait_interval": 0
     }
    },
    "colab_type": "code",
    "id": "TNP6hZQZLpKF"
   },
   "outputs": [],
   "source": [
    "RNN_HIDDEN_SIZE=128\n",
    "FIRST_LAYER_SIZE=1024\n",
    "SECOND_LAYER_SIZE=256\n",
    "NUM_LAYERS=3\n",
    "NUM_EPOCHS=1000\n",
    "lr=0.0003\n",
    "NUM_TRAIN_BATCHES = int(len(train[0])/BATCH_SIZE)\n",
    "NUM_VAL_BATCHES = int(len(val[0])/BATCH_SIZE)\n",
    "ATTN_LENGTH=30\n",
    "beta=0"
   ]
  },
  {
   "cell_type": "code",
   "execution_count": null,
   "metadata": {
    "colab": {
     "autoexec": {
      "startup": false,
      "wait_interval": 0
     }
    },
    "colab_type": "code",
    "id": "JnkkD2jSLpKI"
   },
   "outputs": [],
   "source": [
    "class RNNModel():\n",
    "    def __init__(self):\n",
    "        global_step = tf.train.get_or_create_global_step()\n",
    "        self.input_data = tf.placeholder(dtype=tf.float32, shape=[BATCH_SIZE, num_features])\n",
    "        self.target_data = tf.placeholder(dtype=tf.int32, shape=[BATCH_SIZE])\n",
    "        self.dropout_prob = tf.placeholder(dtype=tf.float32, shape=[])\n",
    "\n",
    "        def makeGRUCells():\n",
    "            cells = []\n",
    "            global NUM_LAYERS\n",
    "            NUM_LAYERS = NUM_LAYERS or 2\n",
    "            for _ in range(NUM_LAYERS):\n",
    "                base_cell = tf.nn.rnn_cell.GRUCell(num_units=RNN_HIDDEN_SIZE)\n",
    "                attn_cell = tf.contrib.rnn.AttentionCellWrapper(cell=base_cell, attn_length=ATTN_LENGTH,\n",
    "                                                                state_is_tuple=False)\n",
    "                cells.append(attn_cell)\n",
    "            layered_cell = tf.nn.rnn_cell.MultiRNNCell(cells, state_is_tuple=False)\n",
    "            return layered_cell\n",
    "\n",
    "        self.gru_cell = makeGRUCells()\n",
    "        self.zero_state = self.gru_cell.zero_state(1, tf.float32)\n",
    "\n",
    "        self.start_state = tf.placeholder(dtype=tf.float32, shape=[1, self.gru_cell.state_size])\n",
    "\n",
    "        with tf.variable_scope(\"ff\", initializer=xavier_initializer(uniform=False)):\n",
    "            dropped_input = tf.nn.dropout(self.input_data, keep_prob=self.dropout_prob)\n",
    "\n",
    "        split_inputs = tf.reshape(dropped_input, shape=[1, BATCH_SIZE, num_features],\n",
    "                                  name=\"reshape_l1\")  # Each item in the batch is a time step, iterate through them\n",
    "        split_inputs = tf.unstack(split_inputs, axis=1, name=\"unpack_l1\")\n",
    "        states = []\n",
    "        outputs = []\n",
    "        with tf.variable_scope(\"rnn\", initializer=xavier_initializer(uniform=False)) as scope:\n",
    "            state = self.start_state\n",
    "            for i, inp in enumerate(split_inputs):\n",
    "                if i > 0:\n",
    "                    scope.reuse_variables()\n",
    "\n",
    "                output, state = self.gru_cell(inp, state)\n",
    "                states.append(state)\n",
    "                outputs.append(output)\n",
    "        self.end_state = states[-1]\n",
    "        outputs = tf.stack(outputs, axis=1)  # Pack them back into a single tensor\n",
    "        outputs = tf.reshape(outputs, shape=[BATCH_SIZE, RNN_HIDDEN_SIZE])\n",
    "        self.logits = tf.contrib.layers.fully_connected(\n",
    "            num_outputs=num_classes,\n",
    "            inputs=outputs,\n",
    "            activation_fn=None\n",
    "        )\n",
    "\n",
    "        with tf.variable_scope(\"loss\"):\n",
    "            self.penalties = tf.reduce_sum([beta * tf.nn.l2_loss(var) for var in tf.trainable_variables()])\n",
    "\n",
    "            self.losses = tf.nn.sparse_softmax_cross_entropy_with_logits(logits=self.logits, labels=self.target_data)\n",
    "            self.loss = tf.reduce_sum(self.losses + beta * self.penalties)\n",
    "            \n",
    "\n",
    "        with tf.name_scope(\"train_step\"):\n",
    "            opt = tf.train.AdamOptimizer(lr)\n",
    "            gvs = opt.compute_gradients(self.loss)\n",
    "            self.train_op = opt.apply_gradients(gvs, global_step=global_step)\n",
    "\n",
    "        with tf.name_scope(\"predictions\"):\n",
    "            probs = tf.nn.softmax(self.logits)\n",
    "            self.predictions = tf.argmax(probs, 1)\n",
    "            correct_pred = tf.cast(tf.equal(self.predictions, tf.cast(self.target_data, tf.int64)), tf.float64)\n",
    "            self.accuracy = tf.reduce_mean(correct_pred)\n",
    "        \n",
    "        #Create a summary for cost and accuracy\n",
    "        tf.summary.scalar(\"loss\", self.loss)\n",
    "        tf.summary.scalar(\"accuracy\", self.accuracy)\n",
    "        \n",
    "        # merge all summaries into a single \"operation\" which we can execute in a session \n",
    "        self.summary_op = tf.summary.merge_all()\n",
    "        \n",
    "        "
   ]
  },
  {
   "cell_type": "code",
   "execution_count": null,
   "metadata": {
    "colab": {
     "autoexec": {
      "startup": false,
      "wait_interval": 0
     }
    },
    "colab_type": "code",
    "id": "9fp-ipUzLxz-"
   },
   "outputs": [],
   "source": [
    "def get_batches(input, target, num_batches, train=False):\n",
    "  x_batch = np.empty(shape=[num_batches, BATCH_SIZE, num_features])\n",
    "  y_batch = np.empty(shape=[num_batches, BATCH_SIZE])\n",
    "  \n",
    "  for batch in range(0, num_batches):\n",
    "    start = batch*BATCH_SIZE\n",
    "    end = start + BATCH_SIZE\n",
    "    x_batch[batch,:] = input[start:end]\n",
    "    y_batch[batch,:] = target[start:end]\n",
    "   \n",
    "  if train:\n",
    "    index = range(num_batches)\n",
    "    np.random.shuffle(index)\n",
    "    x_batch = x_batch[index]\n",
    "    y_batch=  y_batch[index]\n",
    "  \n",
    "  for batch in range(0, num_batches):\n",
    "    yield x_batch[batch], y_batch[batch]"
   ]
  },
  {
   "cell_type": "code",
   "execution_count": null,
   "metadata": {
    "colab": {
     "autoexec": {
      "startup": false,
      "wait_interval": 0
     }
    },
    "colab_type": "code",
    "id": "wo3JeYxaPZhR"
   },
   "outputs": [],
   "source": [
    "logs_path_train = './logs_train'\n",
    "logs_path_test = './logs_test'"
   ]
  },
  {
   "cell_type": "code",
   "execution_count": 94,
   "metadata": {
    "colab": {
     "autoexec": {
      "startup": false,
      "wait_interval": 0
     },
     "base_uri": "https://localhost:8080/",
     "height": 1972,
     "output_extras": [
      {
       "item_id": 56
      },
      {
       "item_id": 103
      }
     ]
    },
    "colab_type": "code",
    "executionInfo": {
     "elapsed": 22631604,
     "status": "ok",
     "timestamp": 1522535037948,
     "user": {
      "displayName": "Shivankur Kapoor",
      "photoUrl": "//lh6.googleusercontent.com/-PynCFKt_Vaw/AAAAAAAAAAI/AAAAAAAAAB0/gMErFHjIJjw/s50-c-k-no/photo.jpg",
      "userId": "105072539454715681442"
     },
     "user_tz": 240
    },
    "id": "olbclaKvLpKR",
    "outputId": "3d69ffb4-627a-4221-a8d4-c8df134c65a6"
   },
   "outputs": [
    {
     "name": "stdout",
     "output_type": "stream",
     "text": [
      "WARNING:tensorflow:<tensorflow.contrib.rnn.python.ops.rnn_cell.AttentionCellWrapper object at 0x7f81a4114d10>: Using a concatenated state is slower and will soon be deprecated.  Use state_is_tuple=True.\n",
      "WARNING:tensorflow:<tensorflow.contrib.rnn.python.ops.rnn_cell.AttentionCellWrapper object at 0x7f81a9ca0150>: Using a concatenated state is slower and will soon be deprecated.  Use state_is_tuple=True.\n",
      "WARNING:tensorflow:<tensorflow.contrib.rnn.python.ops.rnn_cell.AttentionCellWrapper object at 0x7f81a9ca03d0>: Using a concatenated state is slower and will soon be deprecated.  Use state_is_tuple=True.\n",
      "step - 0 loss - 4146.78987503 acc - 0.38\n",
      "step - 10 loss - 3447.67262268 acc - 0.52\n",
      "step - 20 loss - 3041.40769577 acc - 0.52\n",
      "step - 30 loss - 2629.52302551 acc - 0.6\n",
      "step - 40 loss - 2248.55622101 acc - 0.74\n",
      "step - 50 loss - 1948.10987854 acc - 0.86\n",
      "step - 60 loss - 1657.5615797 acc - 0.8\n",
      "step - 70 loss - 1509.08345699 acc - 0.84\n",
      "step - 80 loss - 1336.69574451 acc - 0.84\n",
      "step - 90 loss - 1285.51586819 acc - 0.9\n",
      "step - 100 loss - 1251.48464775 acc - 0.92\n",
      "step - 110 loss - 1195.00487423 acc - 0.84\n",
      "step - 120 loss - 1039.51376486 acc - 0.86\n",
      "step - 130 loss - 939.698805332 acc - 0.92\n",
      "step - 140 loss - 968.644631863 acc - 0.9\n",
      "step - 150 loss - 954.128927708 acc - 0.98\n",
      "step - 160 loss - 842.452485323 acc - 0.82\n",
      "step - 170 loss - 838.371692896 acc - 0.9\n",
      "step - 180 loss - 744.900806189 acc - 0.9\n",
      "step - 190 loss - 823.055395126 acc - 0.96\n",
      "step - 200 loss - 672.106319308 acc - 0.9\n",
      "step - 210 loss - 815.510086298 acc - 0.9\n",
      "step - 220 loss - 625.853144407 acc - 0.94\n",
      "step - 230 loss - 739.819685936 acc - 0.9\n",
      "step - 240 loss - 728.712325811 acc - 0.98\n",
      "step - 250 loss - 616.758998632 acc - 0.92\n",
      "step - 260 loss - 751.122971773 acc - 0.96\n",
      "step - 270 loss - 686.005862236 acc - 0.92\n",
      "step - 280 loss - 622.282982826 acc - 0.94\n",
      "step - 290 loss - 561.47601819 acc - 0.9\n",
      "step - 300 loss - 640.669838667 acc - 0.92\n",
      "step - 310 loss - 665.007596612 acc - 0.92\n",
      "step - 320 loss - 587.248764992 acc - 0.98\n",
      "step - 330 loss - 513.909344435 acc - 0.88\n",
      "step - 340 loss - 572.291112185 acc - 0.92\n",
      "step - 350 loss - 525.983094692 acc - 0.92\n",
      "step - 360 loss - 580.201323986 acc - 0.86\n",
      "step - 370 loss - 484.745473266 acc - 0.94\n",
      "step - 380 loss - 554.031385899 acc - 0.9\n",
      "step - 390 loss - 610.083114862 acc - 0.96\n",
      "step - 400 loss - 565.206032276 acc - 0.9\n",
      "step - 410 loss - 595.95365572 acc - 0.94\n",
      "step - 420 loss - 564.017217517 acc - 0.9\n",
      "step - 430 loss - 508.220913291 acc - 0.94\n",
      "step - 440 loss - 588.086624026 acc - 1.0\n",
      "step - 450 loss - 471.325917602 acc - 0.9\n",
      "step - 460 loss - 554.077932358 acc - 0.96\n",
      "step - 470 loss - 494.129610538 acc - 0.96\n",
      "step - 480 loss - 462.282482982 acc - 0.98\n",
      "step - 490 loss - 477.088814139 acc - 0.96\n",
      "step - 500 loss - 489.646693945 acc - 0.98\n",
      "step - 510 loss - 422.781110704 acc - 0.96\n",
      "step - 520 loss - 460.13612318 acc - 0.92\n",
      "step - 530 loss - 500.659376979 acc - 0.94\n",
      "step - 540 loss - 428.11657548 acc - 0.96\n",
      "step - 550 loss - 427.375587106 acc - 0.96\n",
      "step - 560 loss - 383.11214745 acc - 0.94\n",
      "step - 570 loss - 415.151565194 acc - 0.96\n",
      "step - 580 loss - 431.829038382 acc - 0.98\n",
      "step - 590 loss - 450.52750659 acc - 0.98\n",
      "step - 600 loss - 497.094213903 acc - 0.96\n",
      "step - 610 loss - 393.893806696 acc - 0.98\n",
      "step - 620 loss - 464.896561146 acc - 0.88\n",
      "step - 630 loss - 255.018592119 acc - 0.96\n",
      "step - 640 loss - 357.13561976 acc - 0.98\n",
      "step - 650 loss - 396.846917629 acc - 0.94\n",
      "step - 660 loss - 378.018556416 acc - 0.9\n",
      "step - 670 loss - 460.314890206 acc - 0.94\n",
      "step - 680 loss - 372.107390702 acc - 1.0\n",
      "step - 690 loss - 443.933780074 acc - 0.96\n",
      "step - 700 loss - 353.916059613 acc - 0.94\n",
      "step - 710 loss - 386.590232313 acc - 0.98\n",
      "step - 720 loss - 419.50292927 acc - 0.96\n",
      "step - 730 loss - 384.747911513 acc - 0.94\n",
      "step - 740 loss - 362.259304553 acc - 0.96\n",
      "step - 750 loss - 479.678422093 acc - 0.96\n",
      "step - 760 loss - 477.486688852 acc - 0.94\n",
      "step - 770 loss - 397.840597808 acc - 0.88\n",
      "step - 780 loss - 399.886639118 acc - 0.92\n",
      "step - 790 loss - 340.450589299 acc - 0.98\n",
      "step - 800 loss - 368.306663811 acc - 0.96\n",
      "step - 810 loss - 416.237297535 acc - 0.96\n",
      "step - 820 loss - 315.12003547 acc - 1.0\n",
      "step - 830 loss - 348.814564645 acc - 1.0\n",
      "step - 840 loss - 401.710887551 acc - 1.0\n",
      "step - 850 loss - 395.159376919 acc - 0.96\n",
      "step - 860 loss - 357.564767301 acc - 0.98\n",
      "step - 870 loss - 370.861526638 acc - 0.98\n",
      "step - 880 loss - 361.018844903 acc - 0.98\n",
      "step - 890 loss - 383.081378579 acc - 0.94\n",
      "step - 900 loss - 328.701708823 acc - 0.98\n",
      "step - 910 loss - 387.370186985 acc - 0.98\n",
      "step - 920 loss - 361.533627391 acc - 0.94\n",
      "step - 930 loss - 380.572813869 acc - 0.98\n",
      "step - 940 loss - 297.336052746 acc - 0.94\n",
      "step - 950 loss - 302.637108684 acc - 0.96\n",
      "step - 960 loss - 347.016804755 acc - 0.96\n",
      "step - 970 loss - 304.560144663 acc - 1.0\n",
      "step - 980 loss - 310.307635188 acc - 0.94\n",
      "step - 990 loss - 393.759652674 acc - 0.96\n",
      "0.3\n",
      "0.32\n",
      "0.4\n",
      "0.4\n",
      "0.36\n",
      "0.22\n",
      "0.38\n",
      "0.34\n",
      "0.4\n",
      "0.32\n",
      "0.36\n",
      "0.44\n"
     ]
    }
   ],
   "source": [
    "with tf.Graph().as_default():\n",
    "    model = RNNModel()\n",
    "    with tf.Session() as sess:\n",
    "        init = tf.initialize_all_variables()\n",
    "        sess.run([init])\n",
    "        writer_train = tf.summary.FileWriter(logs_path_train, graph=tf.get_default_graph())\n",
    "        writer_test = tf.summary.FileWriter(logs_path_test, graph=tf.get_default_graph())\n",
    "        loss = 0\n",
    "        \n",
    "        for e in range(NUM_EPOCHS):\n",
    "            state = sess.run(model.zero_state)\n",
    "            epoch_loss =0\n",
    "            i = 0\n",
    "            for x_batch, y_batch in get_batches(train[0], train[1], num_batches=NUM_TRAIN_BATCHES, train=True):\n",
    "                feed = {\n",
    "                    model.input_data:x_batch,\n",
    "                    model.target_data:y_batch,\n",
    "                    model.dropout_prob:0.5,\n",
    "                    model.start_state:state\n",
    "                            }\n",
    "                _,loss,acc,state,summary_train = sess.run(\n",
    "                    [\n",
    "                        model.train_op,\n",
    "                        model.loss,\n",
    "                        model.accuracy,\n",
    "                        model.end_state,\n",
    "                        model.summary_op\n",
    "                    ]\n",
    "                    ,feed_dict=feed\n",
    "                )\n",
    "                epoch_loss+=loss\n",
    "                i += 1\n",
    "                writer_train.add_summary(summary_train, e * NUM_TRAIN_BATCHES + i)\n",
    "            if e%10 == 0:\n",
    "              print('step - {0} loss - {1} acc - {2}'.format((e),epoch_loss,acc))\n",
    "        final_preds =np.array([])\n",
    "        j = 0\n",
    "        for x_batch, y_batch in get_batches(val[0], val[1], num_batches=NUM_VAL_BATCHES ,train=False):\n",
    "                feed = {\n",
    "                    model.input_data:x_batch,\n",
    "                    model.target_data:y_batch,\n",
    "                    model.dropout_prob:1,\n",
    "                    model.start_state:state\n",
    "                            }\n",
    "                acc,preds,state,summary_test = sess.run(\n",
    "                    [\n",
    "                        model.accuracy,\n",
    "                        model.predictions,\n",
    "                        model.end_state,\n",
    "                        model.summary_op\n",
    "                    ]\n",
    "                    ,feed_dict=feed\n",
    "                )\n",
    "                writer_test.add_summary(summary_test, j)\n",
    "                j += 1\n",
    "                print(acc)\n",
    "                assert len(preds) == BATCH_SIZE\n",
    "                final_preds = np.concatenate((final_preds,preds),axis=0)"
   ]
  },
  {
   "cell_type": "code",
   "execution_count": 107,
   "metadata": {
    "colab": {
     "autoexec": {
      "startup": false,
      "wait_interval": 0
     },
     "base_uri": "https://localhost:8080/",
     "height": 119,
     "output_extras": [
      {
       "item_id": 2
      }
     ]
    },
    "colab_type": "code",
    "executionInfo": {
     "elapsed": 2542,
     "status": "ok",
     "timestamp": 1522536941143,
     "user": {
      "displayName": "Shivankur Kapoor",
      "photoUrl": "//lh6.googleusercontent.com/-PynCFKt_Vaw/AAAAAAAAAAI/AAAAAAAAAB0/gMErFHjIJjw/s50-c-k-no/photo.jpg",
      "userId": "105072539454715681442"
     },
     "user_tz": 240
    },
    "id": "40YrT1DaLpKa",
    "outputId": "91ad9b83-acde-4ed7-c295-fe5aab8d47a3"
   },
   "outputs": [
    {
     "name": "stdout",
     "output_type": "stream",
     "text": [
      "total 86512\n",
      "-rw-r--r-- 1 root root 42245597 Mar 31 15:59 events.out.tfevents.1522511720.576cd7c213be\n",
      "-rw-r--r-- 1 root root 46340587 Mar 31 22:23 events.out.tfevents.1522512456.576cd7c213be\n",
      "total 82432\n",
      "-rw-r--r-- 1 root root 42201227 Mar 31 15:55 events.out.tfevents.1522511727.576cd7c213be\n",
      "-rw-r--r-- 1 root root 42203247 Mar 31 22:23 events.out.tfevents.1522512465.576cd7c213be\n"
     ]
    }
   ],
   "source": [
    "!ls -l ./logs_train \n",
    "!ls -l ./logs_test \n",
    "#!ls -l ./logs_test "
   ]
  },
  {
   "cell_type": "code",
   "execution_count": null,
   "metadata": {
    "colab": {
     "autoexec": {
      "startup": false,
      "wait_interval": 0
     }
    },
    "colab_type": "code",
    "id": "efCIjyw4LpKg"
   },
   "outputs": [],
   "source": [
    "results = labeled[-test_size:].copy()\n",
    "results['nn_pred_multiclass'] = final_preds\n",
    "results['nn_pred_class'] = list(map(lambda x : -1 if x == 0 else 0 if x == 1 else 1, final_preds))\n",
    "results['nn_pred_act_return'] = results['nn_pred_class'] * results['Avg_return']"
   ]
  },
  {
   "cell_type": "code",
   "execution_count": 103,
   "metadata": {
    "colab": {
     "autoexec": {
      "startup": false,
      "wait_interval": 0
     },
     "base_uri": "https://localhost:8080/",
     "height": 587,
     "output_extras": [
      {
       "item_id": 1
      },
      {
       "item_id": 2
      }
     ]
    },
    "colab_type": "code",
    "executionInfo": {
     "elapsed": 465,
     "status": "ok",
     "timestamp": 1522536872056,
     "user": {
      "displayName": "Shivankur Kapoor",
      "photoUrl": "//lh6.googleusercontent.com/-PynCFKt_Vaw/AAAAAAAAAAI/AAAAAAAAAB0/gMErFHjIJjw/s50-c-k-no/photo.jpg",
      "userId": "105072539454715681442"
     },
     "user_tz": 240
    },
    "id": "l-s0YNDrLpKq",
    "outputId": "12307921-c6ed-457d-b69b-602d337f3749"
   },
   "outputs": [
    {
     "name": "stdout",
     "output_type": "stream",
     "text": [
      "             precision    recall  f1-score   support\n",
      "\n",
      "         -1       0.39      0.30      0.34       213\n",
      "          0       0.34      0.49      0.40       190\n",
      "          1       0.35      0.29      0.32       197\n",
      "\n",
      "avg / total       0.36      0.36      0.35       600\n",
      "\n",
      "[[64 88 61]\n",
      " [52 93 45]\n",
      " [49 90 58]]\n",
      "Normalized confusion matrix\n"
     ]
    },
    {
     "data": {
      "image/png": "[encoded data removed]",
      "text/plain": [
       "<matplotlib.figure.Figure at 0x7f81871f4090>"
      ]
     },
     "metadata": {
      "tags": []
     },
     "output_type": "display_data"
    }
   ],
   "source": [
    "#cm = confusion_matrix(results['Multiclass'], results['nn_pred_multiclass'])\n",
    "#print cm\n",
    "#plot_confusion_matrix(cm, [i for i in range(3)], figsize)\n",
    "print(classification_report(results['Class'], results['nn_pred_class']))\n",
    "cm2 = confusion_matrix(results['Class'],results['nn_pred_class'])\n",
    "print cm2\n",
    "plot_confusion_matrix(cm2, [-1, 0, 1], figsize)"
   ]
  },
  {
   "cell_type": "code",
   "execution_count": 104,
   "metadata": {
    "colab": {
     "autoexec": {
      "startup": false,
      "wait_interval": 0
     },
     "base_uri": "https://localhost:8080/",
     "height": 670,
     "output_extras": [
      {
       "item_id": 1
      },
      {
       "item_id": 2
      }
     ]
    },
    "colab_type": "code",
    "executionInfo": {
     "elapsed": 627,
     "status": "ok",
     "timestamp": 1522536888162,
     "user": {
      "displayName": "Shivankur Kapoor",
      "photoUrl": "//lh6.googleusercontent.com/-PynCFKt_Vaw/AAAAAAAAAAI/AAAAAAAAAB0/gMErFHjIJjw/s50-c-k-no/photo.jpg",
      "userId": "105072539454715681442"
     },
     "user_tz": 240
    },
    "id": "Luf4a1TYLpKu",
    "outputId": "bb7cf8fc-873a-4bfd-ee61-728800c1bdf9"
   },
   "outputs": [
    {
     "data": {
      "text/plain": [
       "<matplotlib.axes._subplots.AxesSubplot at 0x7f818e587b10>"
      ]
     },
     "execution_count": 104,
     "metadata": {
      "tags": []
     },
     "output_type": "execute_result"
    },
    {
     "data": {
      "image/png": "[encoded data removed]",
      "text/plain": [
       "<matplotlib.figure.Figure at 0x7f818d32acd0>"
      ]
     },
     "metadata": {
      "tags": []
     },
     "output_type": "display_data"
    }
   ],
   "source": [
    "res = (results[['nn_pred_act_return', 'Act_return', 'Avg_return']]).cumsum()\n",
    "#res[0] = 0\n",
    "res.plot(figsize=(15,12))"
   ]
  },
  {
   "cell_type": "code",
   "execution_count": null,
   "metadata": {
    "colab": {
     "autoexec": {
      "startup": false,
      "wait_interval": 0
     }
    },
    "colab_type": "code",
    "id": "pcUh67dcLpK2"
   },
   "outputs": [],
   "source": [
    "from google.colab import files\n",
    "files.download('./logs_train/events.out.tfevents.1522511720.576cd7c213be')\n",
    "files.download('./logs_train/events.out.tfevents.1522512456.576cd7c213be')\n",
    "files.download('./logs_test/events.out.tfevents.1522511727.576cd7c213be')\n",
    "files.download('./logs_test/events.out.tfevents.1522512465.576cd7c213be')"
   ]
  }
 ],
 "metadata": {
  "accelerator": "GPU",
  "colab": {
   "collapsed_sections": [],
   "default_view": {},
   "name": "MarketPredictions2.ipynb",
   "provenance": [],
   "version": "0.3.2",
   "views": {}
  },
  "kernelspec": {
   "display_name": "Python [Root]",
   "language": "python",
   "name": "Python [Root]"
  },
  "language_info": {
   "codemirror_mode": {
    "name": "ipython",
    "version": 2
   },
   "file_extension": ".py",
   "mimetype": "text/x-python",
   "name": "python",
   "nbconvert_exporter": "python",
   "pygments_lexer": "ipython2",
   "version": "2.7.12"
  }
 },
 "nbformat": 4,
 "nbformat_minor": 2
}
